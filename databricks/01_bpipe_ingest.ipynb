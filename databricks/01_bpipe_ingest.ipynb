{
 "cells": [
  {
   "cell_type": "markdown",
   "metadata": {
    "application/vnd.databricks.v1+cell": {
     "cellMetadata": {},
     "inputWidgets": {},
     "nuid": "4bd0bc03-67d9-40a3-bc17-e62076b0d8f8",
     "showTitle": false,
     "tableResultSettingsMap": {},
     "title": ""
    }
   },
   "source": [
    "# Reading BPipe Data\n",
    "\n",
    "[![DBR](https://img.shields.io/badge/DBR-16.4-red?logo=databricks&style=for-the-badge)](https://docs.databricks.com/release-notes/runtime/16.4.html)\n",
    "[![CLOUD](https://img.shields.io/badge/CLOUD-ALL-blue?style=for-the-badge)](https://databricks.com/try-databricks)\n",
    "\n",
    "This project provides a Spark connector for Bloomberg B-Pipe, allowing real-time and reference market data to stream directly into Databricks. It enables use cases such as intraday risk calculations, while Unity Catalog ensures entitlements, governance, and full auditability of data access. "
   ]
  },
  {
   "cell_type": "code",
   "execution_count": 0,
   "metadata": {
    "application/vnd.databricks.v1+cell": {
     "cellMetadata": {
      "byteLimit": 2048000,
      "rowLimit": 10000
     },
     "inputWidgets": {},
     "nuid": "88206983-2d9f-4d09-a68c-567f0ebd44bf",
     "showTitle": false,
     "tableResultSettingsMap": {
      "0": {
       "dataGridStateBlob": "{\"version\":1,\"tableState\":{\"columnPinning\":{\"left\":[\"#row_number#\"],\"right\":[]},\"columnSizing\":{},\"columnVisibility\":{}},\"settings\":{\"columns\":{}},\"syncTimestamp\":1758915249248}",
       "filterBlob": null,
       "queryPlanFiltersBlob": null,
       "tableResultIndex": 0
      }
     },
     "title": ""
    }
   },
   "outputs": [
    {
     "output_type": "display_data",
     "data": {
      "text/html": [
       "<style scoped>\n",
       "  .table-result-container {\n",
       "    max-height: 300px;\n",
       "    overflow: auto;\n",
       "  }\n",
       "  table, th, td {\n",
       "    border: 1px solid black;\n",
       "    border-collapse: collapse;\n",
       "  }\n",
       "  th, td {\n",
       "    padding: 5px;\n",
       "  }\n",
       "  th {\n",
       "    text-align: left;\n",
       "  }\n",
       "</style><div class='table-result-container'><table class='table-result'><thead style='background-color: white'><tr><th>resource_name</th><th>is_in_classpath</th></tr></thead><tbody><tr><td>/certificates/rootCertificate.pk7</td><td>true</td></tr><tr><td>/certificates/073BE6888AE987A5FC5C3C288CBC89E3.pk12</td><td>true</td></tr></tbody></table></div>"
      ]
     },
     "metadata": {
      "application/vnd.databricks.v1+output": {
       "addedWidgets": {},
       "aggData": [],
       "aggError": "",
       "aggOverflow": false,
       "aggSchema": [],
       "aggSeriesLimitReached": false,
       "aggType": "",
       "arguments": {},
       "columnCustomDisplayInfos": {},
       "data": [
        [
         "/certificates/rootCertificate.pk7",
         true
        ],
        [
         "/certificates/073BE6888AE987A5FC5C3C288CBC89E3.pk12",
         true
        ]
       ],
       "datasetInfos": [],
       "dbfsResultPath": null,
       "isJsonSchema": true,
       "metadata": {
        "isDbfsCommandResult": false
       },
       "overflow": false,
       "plotOptions": {
        "customPlotOptions": {},
        "displayType": "table",
        "pivotAggregation": null,
        "pivotColumns": null,
        "xColumns": null,
        "yColumns": null
       },
       "removedWidgets": [],
       "schema": [
        {
         "metadata": "{}",
         "name": "resource_name",
         "type": "\"string\""
        },
        {
         "metadata": "{}",
         "name": "is_in_classpath",
         "type": "\"boolean\""
        }
       ],
       "type": "table"
      }
     },
     "output_type": "display_data"
    }
   ],
   "source": [
    "%scala\n",
    "\n",
    "// Make sure that we have both blpapi and databricks wrapper on classpath\n",
    "import com.databricks.fsi.bpipe._\n",
    "import com.bloomberglp.blpapi._\n",
    "\n",
    "// Make sure that we have our private key and certificates on executors' classpath\n",
    "import org.apache.spark.sql.functions.udf\n",
    "import org.apache.commons.io.IOUtils\n",
    "import spark.implicits._\n",
    "\n",
    "// We load certificate at an executor level\n",
    "def isInClassPath(resourceName: String): Boolean = {\n",
    "  try {\n",
    "    val stream = BPipeConfig.getClass.getResourceAsStream(resourceName)\n",
    "    IOUtils.toByteArray(stream)\n",
    "    true\n",
    "  } catch {\n",
    "    case _: Throwable => false\n",
    "  }\n",
    "}\n",
    "\n",
    "val isInClassPathUdf = udf(isInClassPath _)\n",
    "val df = Seq(\n",
    "  (\"/certificates/rootCertificate.pk7\"),\n",
    "  (\"/certificates/073BE6888AE987A5FC5C3C288CBC89E3.pk12\")\n",
    ").toDF(\"resource_name\").withColumn(\"is_in_classpath\", isInClassPathUdf($\"resource_name\"))\n",
    "\n",
    "display(df)"
   ]
  },
  {
   "cell_type": "markdown",
   "metadata": {
    "application/vnd.databricks.v1+cell": {
     "cellMetadata": {},
     "inputWidgets": {},
     "nuid": "5c6edf59-ac46-47e5-9013-4d23f9cbbb39",
     "showTitle": false,
     "tableResultSettingsMap": {},
     "title": ""
    }
   },
   "source": [
    "## Retrieve specific instruments\n",
    "We manually selected some instruments we know are part of different EIDs, goal being to test permissioning"
   ]
  },
  {
   "cell_type": "code",
   "execution_count": 0,
   "metadata": {
    "application/vnd.databricks.v1+cell": {
     "cellMetadata": {
      "byteLimit": 2048000,
      "rowLimit": 10000
     },
     "inputWidgets": {},
     "nuid": "d9ddbb9a-978e-4bcf-986e-cce15f1fb10f",
     "showTitle": false,
     "tableResultSettingsMap": {},
     "title": ""
    }
   },
   "outputs": [
    {
     "output_type": "display_data",
     "data": {
      "text/html": [
       "<style scoped>\n",
       "  .table-result-container {\n",
       "    max-height: 300px;\n",
       "    overflow: auto;\n",
       "  }\n",
       "  table, th, td {\n",
       "    border: 1px solid black;\n",
       "    border-collapse: collapse;\n",
       "  }\n",
       "  th, td {\n",
       "    padding: 5px;\n",
       "  }\n",
       "  th {\n",
       "    text-align: left;\n",
       "  }\n",
       "</style><div class='table-result-container'><table class='table-result'><thead style='background-color: white'><tr><th>EID</th><th>SECURITY</th></tr></thead><tbody><tr><td>33828</td><td>JPVM215 BGN Curncy</td></tr><tr><td>33828</td><td>DFPI0625 BGN Curncy</td></tr><tr><td>33828</td><td>THNA0730 BGN Curncy</td></tr><tr><td>38736</td><td>USDNGNH1Y BGNL Curncy</td></tr><tr><td>38736</td><td>GBPEURK3M BGNL Curncy</td></tr><tr><td>38736</td><td>USDHRKH24H BGNL Curncy</td></tr><tr><td>39489</td><td>S:FFFF 4-28 ELEC Comdty</td></tr><tr><td>39489</td><td>SMZ5P 420 ELEC Comdty</td></tr><tr><td>39489</td><td>VBOV25P1 102.00 Comdty</td></tr></tbody></table></div>"
      ]
     },
     "metadata": {
      "application/vnd.databricks.v1+output": {
       "addedWidgets": {},
       "aggData": [],
       "aggError": "",
       "aggOverflow": false,
       "aggSchema": [],
       "aggSeriesLimitReached": false,
       "aggType": "",
       "arguments": {},
       "columnCustomDisplayInfos": {},
       "data": [
        [
         "33828",
         "JPVM215 BGN Curncy"
        ],
        [
         "33828",
         "DFPI0625 BGN Curncy"
        ],
        [
         "33828",
         "THNA0730 BGN Curncy"
        ],
        [
         "38736",
         "USDNGNH1Y BGNL Curncy"
        ],
        [
         "38736",
         "GBPEURK3M BGNL Curncy"
        ],
        [
         "38736",
         "USDHRKH24H BGNL Curncy"
        ],
        [
         "39489",
         "S:FFFF 4-28 ELEC Comdty"
        ],
        [
         "39489",
         "SMZ5P 420 ELEC Comdty"
        ],
        [
         "39489",
         "VBOV25P1 102.00 Comdty"
        ]
       ],
       "datasetInfos": [],
       "dbfsResultPath": null,
       "isJsonSchema": true,
       "metadata": {},
       "overflow": false,
       "plotOptions": {
        "customPlotOptions": {},
        "displayType": "table",
        "pivotAggregation": null,
        "pivotColumns": null,
        "xColumns": null,
        "yColumns": null
       },
       "removedWidgets": [],
       "schema": [
        {
         "metadata": "{}",
         "name": "EID",
         "type": "\"string\""
        },
        {
         "metadata": "{}",
         "name": "SECURITY",
         "type": "\"string\""
        }
       ],
       "type": "table"
      }
     },
     "output_type": "display_data"
    }
   ],
   "source": [
    "import os\n",
    "instruments_df = []\n",
    "instruments_base_dir = '/Volumes/market_data/providers/bloomberg/instruments'\n",
    "for instrument_file_name in os.listdir(instruments_base_dir):\n",
    "    instrument_file = os.path.join(instruments_base_dir, instrument_file_name)\n",
    "    eid = instrument_file_name.split('_')[0]\n",
    "    with open(instrument_file, 'r') as f:\n",
    "        for instrument in f.read().split('\\n'):\n",
    "            instruments_df.append([eid, instrument])\n",
    "\n",
    "import pandas as pd\n",
    "instruments_df = pd.DataFrame(instruments_df, columns=['EID', 'SECURITY'])\n",
    "display(instruments_df.groupby('EID').sample(n=3))"
   ]
  },
  {
   "cell_type": "code",
   "execution_count": 0,
   "metadata": {
    "application/vnd.databricks.v1+cell": {
     "cellMetadata": {
      "byteLimit": 2048000,
      "rowLimit": 10000
     },
     "inputWidgets": {},
     "nuid": "f18801a1-2ff0-46bf-941f-a3c81cfb988b",
     "showTitle": false,
     "tableResultSettingsMap": {},
     "title": ""
    }
   },
   "outputs": [
    {
     "output_type": "stream",
     "name": "stdout",
     "output_type": "stream",
     "text": [
      "30 securities loaded\n"
     ]
    }
   ],
   "source": [
    "# Let's get only 10 securities per EID fow now\n",
    "sample_instruments = instruments_df.groupby('EID').sample(n=10)['SECURITY'].to_list()\n",
    "print('{} securities loaded'.format(len(sample_instruments)))"
   ]
  },
  {
   "cell_type": "markdown",
   "metadata": {
    "application/vnd.databricks.v1+cell": {
     "cellMetadata": {},
     "inputWidgets": {},
     "nuid": "2ead86e9-064f-4304-b0b6-4c9cd2866273",
     "showTitle": false,
     "tableResultSettingsMap": {},
     "title": ""
    }
   },
   "source": [
    "## Static Reference Data\n",
    "\n",
    "`//blp/staticMktData` is a type of API call (using Bloomberg’s BLPAPI) that asks for metadata or static attributes about securities — things that generally do not change tick-by-tick, such as Security descriptions, ISINs, CUSIPs, SEDOLs, Exchange codes, Sector classifications, etc. We mapped its service again spark application accepting below parameters.\n",
    "\n",
    "|                |  |\n",
    "|----------------| ----------- |\n",
    "| B-Pipe service | `//blp/staticMktData` |\n",
    "| Delivery mode      | request / response |\n",
    "| Spark mode      | batch |"
   ]
  },
  {
   "cell_type": "code",
   "execution_count": 0,
   "metadata": {
    "application/vnd.databricks.v1+cell": {
     "cellMetadata": {
      "byteLimit": 2048000,
      "rowLimit": 10000
     },
     "inputWidgets": {},
     "nuid": "43b52fd3-e1c2-4e8e-a966-9e88cdbb8a01",
     "showTitle": false,
     "tableResultSettingsMap": {},
     "title": ""
    }
   },
   "outputs": [],
   "source": [
    "staticMktData = (\n",
    "  spark\n",
    "    .read\n",
    "    .format(\"//blp/staticMktData\")\n",
    "\n",
    "    # B-PIPE connection\n",
    "    .option(\"serverAddresses\", \"['cloudpoint1.bloomberg.com', 'cloudpoint2.bloomberg.com']\")\n",
    "    .option(\"serverPort\", 8194)\n",
    "\n",
    "    # Files were added as spark local files in cluster configuration\n",
    "    .option(\"tlsCertificatePath\", '/certificates/rootCertificate.pk7')\n",
    "    .option(\"tlsPrivateKeyPath\", '/certificates/073BE6888AE987A5FC5C3C288CBC89E3.pk12')\n",
    "    .option(\"tlsPrivateKeyPassword\", \"VcRC3uY48vp2wZj5\")\n",
    "    .option(\"authApplicationName\", \"blp:dbx-src-test\")\n",
    "    .option(\"correlationId\", 999)\n",
    "\n",
    "    # Service configuration\n",
    "    .option(\"serviceName\", \"ReferenceDataRequest\")\n",
    "    .option(\"fields\", \"['NAME_RT', 'SECURITY_DESCRIPTION_RT', 'BID', 'ASK', 'LAST_PRICE']\")\n",
    "    .option(\"securities\", sample_instruments)\n",
    "    .option(\"returnEids\", True)\n",
    "\n",
    "    # Start batch ingest\n",
    "    .load()\n",
    ")"
   ]
  },
  {
   "cell_type": "code",
   "execution_count": 0,
   "metadata": {
    "application/vnd.databricks.v1+cell": {
     "cellMetadata": {
      "byteLimit": 2048000,
      "rowLimit": 10000
     },
     "inputWidgets": {},
     "nuid": "f0cfb24c-e3bd-4481-b69c-5735df63b28c",
     "showTitle": false,
     "tableResultSettingsMap": {},
     "title": ""
    }
   },
   "outputs": [
    {
     "output_type": "display_data",
     "data": {
      "text/html": [
       "<style scoped>\n",
       "  .table-result-container {\n",
       "    max-height: 300px;\n",
       "    overflow: auto;\n",
       "  }\n",
       "  table, th, td {\n",
       "    border: 1px solid black;\n",
       "    border-collapse: collapse;\n",
       "  }\n",
       "  th, td {\n",
       "    padding: 5px;\n",
       "  }\n",
       "  th {\n",
       "    text-align: left;\n",
       "  }\n",
       "</style><div class='table-result-container'><table class='table-result'><thead style='background-color: white'><tr><th>SECURITY</th><th>NAME_RT</th><th>SECURITY_DESCRIPTION_RT</th><th>BID</th><th>ASK</th><th>LAST_PRICE</th></tr></thead><tbody><tr><td>CNYJ0120 BGN Curncy</td><td>CNY OFF SWPT PREM 100 1Y</td><td>CNYJ0120 Curncy</td><td>0.0</td><td>0.0</td><td>0.0</td></tr><tr><td>CLSE0515 BGN Curncy</td><td>CAD SPR %V-100 COR 5Y15Y</td><td>CLSE0515 Curncy</td><td>0.0</td><td>0.0</td><td>0.0</td></tr><tr><td>USNBFSAO BGN Curncy</td><td>USD Cap 4Y13Y</td><td>USNBFSAO Curncy</td><td>0.0</td><td>0.0</td><td>0.0</td></tr><tr><td>GBPGHFEA BGN Curncy</td><td>GBP SWPT %VOL 50 20Y15Y</td><td>GBPGHFEA Curncy</td><td>0.0</td><td>0.0</td><td>0.0</td></tr><tr><td>BPNI35 BGN Curncy</td><td>GBP SWPT NVOL OIS-150 3Y</td><td>BPNI35 Curncy</td><td>0.0</td><td>0.0</td><td>0.0</td></tr><tr><td>UDTL1003 BGN Curncy</td><td>AED SWPT SPRD NVOL 250 1</td><td>UDTL1003 Curncy</td><td>0.0</td><td>0.0</td><td>0.0</td></tr><tr><td>SAPQ1202 BGN Curncy</td><td>ZAR SWPT PREM 75 12Y2Y</td><td>SAPQ1202 Curncy</td><td>0.0</td><td>0.0</td><td>0.0</td></tr><tr><td>USPUAZ30 BGN Curncy</td><td>US SP PR SOFR 350 30Y30Y</td><td>USPUAZ30 Curncy</td><td>0.0</td><td>0.0</td><td>0.0</td></tr><tr><td>SBBL1205 BGN Curncy</td><td>SEK SWPT %VOL OIS-350 12</td><td>SBBL1205 Curncy</td><td>0.0</td><td>0.0</td><td>0.0</td></tr><tr><td>ISFS121F BGN Curncy</td><td>ILS FORWARD SWAP 12YX18M</td><td>ISFS121F Curncy</td><td>0.0</td><td>0.0</td><td>0.0</td></tr></tbody></table></div>"
      ]
     },
     "metadata": {
      "application/vnd.databricks.v1+output": {
       "addedWidgets": {},
       "aggData": [],
       "aggError": "",
       "aggOverflow": false,
       "aggSchema": [],
       "aggSeriesLimitReached": false,
       "aggType": "",
       "arguments": {},
       "columnCustomDisplayInfos": {},
       "data": [
        [
         "CNYJ0120 BGN Curncy",
         "CNY OFF SWPT PREM 100 1Y",
         "CNYJ0120 Curncy",
         0.0,
         0.0,
         0.0
        ],
        [
         "CLSE0515 BGN Curncy",
         "CAD SPR %V-100 COR 5Y15Y",
         "CLSE0515 Curncy",
         0.0,
         0.0,
         0.0
        ],
        [
         "USNBFSAO BGN Curncy",
         "USD Cap 4Y13Y",
         "USNBFSAO Curncy",
         0.0,
         0.0,
         0.0
        ],
        [
         "GBPGHFEA BGN Curncy",
         "GBP SWPT %VOL 50 20Y15Y",
         "GBPGHFEA Curncy",
         0.0,
         0.0,
         0.0
        ],
        [
         "BPNI35 BGN Curncy",
         "GBP SWPT NVOL OIS-150 3Y",
         "BPNI35 Curncy",
         0.0,
         0.0,
         0.0
        ],
        [
         "UDTL1003 BGN Curncy",
         "AED SWPT SPRD NVOL 250 1",
         "UDTL1003 Curncy",
         0.0,
         0.0,
         0.0
        ],
        [
         "SAPQ1202 BGN Curncy",
         "ZAR SWPT PREM 75 12Y2Y",
         "SAPQ1202 Curncy",
         0.0,
         0.0,
         0.0
        ],
        [
         "USPUAZ30 BGN Curncy",
         "US SP PR SOFR 350 30Y30Y",
         "USPUAZ30 Curncy",
         0.0,
         0.0,
         0.0
        ],
        [
         "SBBL1205 BGN Curncy",
         "SEK SWPT %VOL OIS-350 12",
         "SBBL1205 Curncy",
         0.0,
         0.0,
         0.0
        ],
        [
         "ISFS121F BGN Curncy",
         "ILS FORWARD SWAP 12YX18M",
         "ISFS121F Curncy",
         0.0,
         0.0,
         0.0
        ]
       ],
       "datasetInfos": [],
       "dbfsResultPath": null,
       "isJsonSchema": true,
       "metadata": {},
       "overflow": false,
       "plotOptions": {
        "customPlotOptions": {},
        "displayType": "table",
        "pivotAggregation": null,
        "pivotColumns": null,
        "xColumns": null,
        "yColumns": null
       },
       "removedWidgets": [],
       "schema": [
        {
         "metadata": "{}",
         "name": "SECURITY",
         "type": "\"string\""
        },
        {
         "metadata": "{}",
         "name": "NAME_RT",
         "type": "\"string\""
        },
        {
         "metadata": "{}",
         "name": "SECURITY_DESCRIPTION_RT",
         "type": "\"string\""
        },
        {
         "metadata": "{}",
         "name": "BID",
         "type": "\"double\""
        },
        {
         "metadata": "{}",
         "name": "ASK",
         "type": "\"double\""
        },
        {
         "metadata": "{}",
         "name": "LAST_PRICE",
         "type": "\"double\""
        }
       ],
       "type": "table"
      }
     },
     "output_type": "display_data"
    }
   ],
   "source": [
    "display(staticMktData)"
   ]
  },
  {
   "cell_type": "markdown",
   "metadata": {
    "application/vnd.databricks.v1+cell": {
     "cellMetadata": {},
     "inputWidgets": {},
     "nuid": "5817c6e9-b1fc-43cb-a3ba-0b5937b909fa",
     "showTitle": false,
     "tableResultSettingsMap": {},
     "title": ""
    }
   },
   "source": [
    "## Real Time data\n",
    "\n",
    "`//blp/mktdata` is the Bloomberg API service that streams real-time market data (quotes, trades, market depth) to client applications by subscription. \n",
    "Live data from the exchanges, it is critical to ensure delivery to specific applications only by tracking entitlement and lineage through unity catalog. A B-Pipe feed of market data must be limited to a given application only.\n",
    "\n",
    "|                |  |\n",
    "|----------------| ----------- |\n",
    "| B-Pipe service | `//blp/mktdata` |\n",
    "| Delivery mode      | publish / subscribe |\n",
    "| Spark mode      | streaming |\n"
   ]
  },
  {
   "cell_type": "code",
   "execution_count": 0,
   "metadata": {
    "application/vnd.databricks.v1+cell": {
     "cellMetadata": {
      "byteLimit": 2048000,
      "rowLimit": 10000
     },
     "inputWidgets": {},
     "nuid": "169073db-6d35-42bb-9391-46b445a49683",
     "showTitle": false,
     "tableResultSettingsMap": {},
     "title": ""
    }
   },
   "outputs": [],
   "source": [
    "from pyspark.sql.functions import current_timestamp, to_utc_timestamp, split, col\n",
    "\n",
    "sample_fields = [\n",
    "  'NAME_RT', \n",
    "  'MKTDATA_EVENT_TYPE',\n",
    "  'MKTDATA_EVENT_SUBTYPE',\n",
    "  'EID',\n",
    "  'BID',\n",
    "  'ASK',\n",
    "  'LAST_PRICE',\n",
    "  'VOLUME',\n",
    "  'BID_SIZE',\n",
    "  'ASK_SIZE',\n",
    "  'SIZE_LAST_TRADE',\n",
    "  'IS_DELAYED_STREAM',\n",
    "  'TRADE_UPDATE_STAMP_RT'\n",
    "]\n",
    "\n",
    "mktData = (\n",
    "  \n",
    "  spark\n",
    "  \n",
    "      # mktData is a streaming endpoint\n",
    "      .readStream\n",
    "      .format(\"//blp/mktData\")\n",
    "\n",
    "      # B-PIPE connection\n",
    "      .option(\"serverAddresses\", \"['cloudpoint1.bloomberg.com', 'cloudpoint2.bloomberg.com']\")\n",
    "      .option(\"serverPort\", 8194)\n",
    "      .option(\"tlsCertificatePath\", \"/certificates/rootCertificate.pk7\")\n",
    "      .option(\"tlsPrivateKeyPath\", \"/certificates/073BE6888AE987A5FC5C3C288CBC89E3.pk12\")\n",
    "      .option(\"tlsPrivateKeyPassword\", \"VcRC3uY48vp2wZj5\")\n",
    "      .option(\"authApplicationName\", \"blp:dbx-src-test\")\n",
    "      .option(\"correlationId\", 999)\n",
    "\n",
    "      # Service configuration\n",
    "      .option(\"fields\", sample_fields)\n",
    "      .option(\"securities\", sample_instruments)\n",
    "\n",
    "      # Custom logic\n",
    "      .option(\"permissive\", value = True)\n",
    "      .option(\"timezone\", \"UTC\")\n",
    "      .load()\n",
    "\n",
    "      # Add processing timestamp we can use for temporal entitlement\n",
    "      .withColumn(\n",
    "        'processed_timestamp',\n",
    "        to_utc_timestamp(current_timestamp(), \"UTC\")\n",
    "      )\n",
    ")"
   ]
  },
  {
   "cell_type": "code",
   "execution_count": 0,
   "metadata": {
    "application/vnd.databricks.v1+cell": {
     "cellMetadata": {
      "byteLimit": 2048000,
      "rowLimit": 10000
     },
     "inputWidgets": {},
     "nuid": "566b29fd-52ad-48a5-a131-20c537ca4eb7",
     "showTitle": false,
     "tableResultSettingsMap": {},
     "title": ""
    }
   },
   "outputs": [
    {
     "output_type": "display_data",
     "data": {
      "text/html": [
       "<style scoped>\n",
       "  .table-result-container {\n",
       "    max-height: 300px;\n",
       "    overflow: auto;\n",
       "  }\n",
       "  table, th, td {\n",
       "    border: 1px solid black;\n",
       "    border-collapse: collapse;\n",
       "  }\n",
       "  th, td {\n",
       "    padding: 5px;\n",
       "  }\n",
       "  th {\n",
       "    text-align: left;\n",
       "  }\n",
       "</style><div class='table-result-container'><table class='table-result'><thead style='background-color: white'><tr><th>SECURITY</th><th>NAME_RT</th><th>MKTDATA_EVENT_TYPE</th><th>MKTDATA_EVENT_SUBTYPE</th><th>EID</th><th>BID</th><th>ASK</th><th>LAST_PRICE</th><th>VOLUME</th><th>BID_SIZE</th><th>ASK_SIZE</th><th>SIZE_LAST_TRADE</th><th>IS_DELAYED_STREAM</th><th>TRADE_UPDATE_STAMP_RT</th><th>processed_timestamp</th></tr></thead><tbody><tr><td>SBBL1205 BGN Curncy</td><td>SEK SWPT %VOL OIS-350 12</td><td>REFERENCE</td><td>INITPAINT</td><td>35009</td><td>null</td><td>null</td><td>null</td><td>null</td><td>null</td><td>null</td><td>null</td><td>false</td><td>null</td><td>2025-09-26T20:18:44.293Z</td></tr><tr><td>SBBL1205 BGN Curncy</td><td>null</td><td>SUMMARY</td><td>INITPAINT</td><td>33828</td><td>null</td><td>null</td><td>null</td><td>null</td><td>null</td><td>null</td><td>null</td><td>false</td><td>null</td><td>2025-09-26T20:18:44.293Z</td></tr><tr><td>CLSE0515 BGN Curncy</td><td>CAD SPR %V-100 COR 5Y15Y</td><td>REFERENCE</td><td>INITPAINT</td><td>35009</td><td>null</td><td>null</td><td>null</td><td>null</td><td>null</td><td>null</td><td>null</td><td>false</td><td>null</td><td>2025-09-26T20:18:44.293Z</td></tr><tr><td>CLSE0515 BGN Curncy</td><td>null</td><td>SUMMARY</td><td>INITPAINT</td><td>33828</td><td>null</td><td>null</td><td>null</td><td>null</td><td>null</td><td>null</td><td>null</td><td>false</td><td>null</td><td>2025-09-26T20:18:44.293Z</td></tr><tr><td>ISFS121F BGN Curncy</td><td>ILS FORWARD SWAP 12YX18M</td><td>REFERENCE</td><td>INITPAINT</td><td>35009</td><td>null</td><td>null</td><td>null</td><td>null</td><td>null</td><td>null</td><td>null</td><td>false</td><td>null</td><td>2025-09-26T20:18:44.293Z</td></tr><tr><td>ISFS121F BGN Curncy</td><td>null</td><td>SUMMARY</td><td>INITPAINT</td><td>33828</td><td>null</td><td>null</td><td>null</td><td>null</td><td>null</td><td>null</td><td>null</td><td>false</td><td>null</td><td>2025-09-26T20:18:44.293Z</td></tr><tr><td>CNYJ0120 BGN Curncy</td><td>CNY OFF SWPT PREM 100 1Y</td><td>REFERENCE</td><td>INITPAINT</td><td>35009</td><td>null</td><td>null</td><td>null</td><td>null</td><td>null</td><td>null</td><td>null</td><td>false</td><td>null</td><td>2025-09-26T20:18:44.293Z</td></tr><tr><td>CNYJ0120 BGN Curncy</td><td>null</td><td>SUMMARY</td><td>INITPAINT</td><td>33828</td><td>null</td><td>null</td><td>null</td><td>null</td><td>null</td><td>null</td><td>null</td><td>false</td><td>null</td><td>2025-09-26T20:18:44.293Z</td></tr><tr><td>UDTL1003 BGN Curncy</td><td>AED SWPT SPRD NVOL 250 1</td><td>REFERENCE</td><td>INITPAINT</td><td>35009</td><td>null</td><td>null</td><td>null</td><td>null</td><td>null</td><td>null</td><td>null</td><td>false</td><td>null</td><td>2025-09-26T20:18:44.293Z</td></tr><tr><td>UDTL1003 BGN Curncy</td><td>null</td><td>SUMMARY</td><td>INITPAINT</td><td>33828</td><td>null</td><td>null</td><td>null</td><td>null</td><td>null</td><td>null</td><td>null</td><td>false</td><td>null</td><td>2025-09-26T20:18:44.293Z</td></tr><tr><td>BPNI35 BGN Curncy</td><td>GBP SWPT NVOL OIS-150 3Y</td><td>REFERENCE</td><td>INITPAINT</td><td>35009</td><td>null</td><td>null</td><td>null</td><td>null</td><td>null</td><td>null</td><td>null</td><td>false</td><td>null</td><td>2025-09-26T20:18:44.293Z</td></tr><tr><td>BPNI35 BGN Curncy</td><td>null</td><td>SUMMARY</td><td>INITPAINT</td><td>33828</td><td>null</td><td>null</td><td>null</td><td>null</td><td>null</td><td>null</td><td>null</td><td>false</td><td>null</td><td>2025-09-26T20:18:44.293Z</td></tr><tr><td>USNBFSAO BGN Curncy</td><td>USD Cap 4Y13Y</td><td>REFERENCE</td><td>INITPAINT</td><td>35009</td><td>null</td><td>null</td><td>null</td><td>null</td><td>null</td><td>null</td><td>null</td><td>false</td><td>null</td><td>2025-09-26T20:18:44.293Z</td></tr><tr><td>USNBFSAO BGN Curncy</td><td>null</td><td>SUMMARY</td><td>INITPAINT</td><td>33828</td><td>null</td><td>null</td><td>null</td><td>null</td><td>null</td><td>null</td><td>null</td><td>false</td><td>null</td><td>2025-09-26T20:18:44.293Z</td></tr><tr><td>SAPQ1202 BGN Curncy</td><td>ZAR SWPT PREM 75 12Y2Y</td><td>REFERENCE</td><td>INITPAINT</td><td>35009</td><td>null</td><td>null</td><td>null</td><td>null</td><td>null</td><td>null</td><td>null</td><td>false</td><td>null</td><td>2025-09-26T20:18:44.293Z</td></tr><tr><td>SAPQ1202 BGN Curncy</td><td>null</td><td>SUMMARY</td><td>INITPAINT</td><td>33828</td><td>null</td><td>null</td><td>null</td><td>null</td><td>null</td><td>null</td><td>null</td><td>false</td><td>null</td><td>2025-09-26T20:18:44.293Z</td></tr><tr><td>USPUAZ30 BGN Curncy</td><td>US SP PR SOFR 350 30Y30Y</td><td>REFERENCE</td><td>INITPAINT</td><td>35009</td><td>null</td><td>null</td><td>null</td><td>null</td><td>null</td><td>null</td><td>null</td><td>false</td><td>null</td><td>2025-09-26T20:18:44.293Z</td></tr><tr><td>USPUAZ30 BGN Curncy</td><td>null</td><td>SUMMARY</td><td>INITPAINT</td><td>33828</td><td>null</td><td>null</td><td>null</td><td>null</td><td>null</td><td>null</td><td>null</td><td>false</td><td>null</td><td>2025-09-26T20:18:44.293Z</td></tr><tr><td>GBPGHFEA BGN Curncy</td><td>GBP SWPT %VOL 50 20Y15Y</td><td>REFERENCE</td><td>INITPAINT</td><td>35009</td><td>null</td><td>null</td><td>null</td><td>null</td><td>null</td><td>null</td><td>null</td><td>false</td><td>null</td><td>2025-09-26T20:18:44.293Z</td></tr><tr><td>GBPGHFEA BGN Curncy</td><td>null</td><td>SUMMARY</td><td>INITPAINT</td><td>33828</td><td>null</td><td>null</td><td>null</td><td>null</td><td>null</td><td>null</td><td>null</td><td>false</td><td>null</td><td>2025-09-26T20:18:44.293Z</td></tr></tbody></table></div>"
      ]
     },
     "metadata": {
      "application/vnd.databricks.v1+output": {
       "addedWidgets": {},
       "aggData": [],
       "aggError": "",
       "aggOverflow": false,
       "aggSchema": [],
       "aggSeriesLimitReached": false,
       "aggType": "",
       "arguments": {},
       "columnCustomDisplayInfos": {},
       "data": [
        [
         "SBBL1205 BGN Curncy",
         "SEK SWPT %VOL OIS-350 12",
         "REFERENCE",
         "INITPAINT",
         35009,
         null,
         null,
         null,
         null,
         null,
         null,
         null,
         false,
         null,
         "2025-09-26T20:18:44.293Z"
        ],
        [
         "SBBL1205 BGN Curncy",
         null,
         "SUMMARY",
         "INITPAINT",
         33828,
         null,
         null,
         null,
         null,
         null,
         null,
         null,
         false,
         null,
         "2025-09-26T20:18:44.293Z"
        ],
        [
         "CLSE0515 BGN Curncy",
         "CAD SPR %V-100 COR 5Y15Y",
         "REFERENCE",
         "INITPAINT",
         35009,
         null,
         null,
         null,
         null,
         null,
         null,
         null,
         false,
         null,
         "2025-09-26T20:18:44.293Z"
        ],
        [
         "CLSE0515 BGN Curncy",
         null,
         "SUMMARY",
         "INITPAINT",
         33828,
         null,
         null,
         null,
         null,
         null,
         null,
         null,
         false,
         null,
         "2025-09-26T20:18:44.293Z"
        ],
        [
         "ISFS121F BGN Curncy",
         "ILS FORWARD SWAP 12YX18M",
         "REFERENCE",
         "INITPAINT",
         35009,
         null,
         null,
         null,
         null,
         null,
         null,
         null,
         false,
         null,
         "2025-09-26T20:18:44.293Z"
        ],
        [
         "ISFS121F BGN Curncy",
         null,
         "SUMMARY",
         "INITPAINT",
         33828,
         null,
         null,
         null,
         null,
         null,
         null,
         null,
         false,
         null,
         "2025-09-26T20:18:44.293Z"
        ],
        [
         "CNYJ0120 BGN Curncy",
         "CNY OFF SWPT PREM 100 1Y",
         "REFERENCE",
         "INITPAINT",
         35009,
         null,
         null,
         null,
         null,
         null,
         null,
         null,
         false,
         null,
         "2025-09-26T20:18:44.293Z"
        ],
        [
         "CNYJ0120 BGN Curncy",
         null,
         "SUMMARY",
         "INITPAINT",
         33828,
         null,
         null,
         null,
         null,
         null,
         null,
         null,
         false,
         null,
         "2025-09-26T20:18:44.293Z"
        ],
        [
         "UDTL1003 BGN Curncy",
         "AED SWPT SPRD NVOL 250 1",
         "REFERENCE",
         "INITPAINT",
         35009,
         null,
         null,
         null,
         null,
         null,
         null,
         null,
         false,
         null,
         "2025-09-26T20:18:44.293Z"
        ],
        [
         "UDTL1003 BGN Curncy",
         null,
         "SUMMARY",
         "INITPAINT",
         33828,
         null,
         null,
         null,
         null,
         null,
         null,
         null,
         false,
         null,
         "2025-09-26T20:18:44.293Z"
        ],
        [
         "BPNI35 BGN Curncy",
         "GBP SWPT NVOL OIS-150 3Y",
         "REFERENCE",
         "INITPAINT",
         35009,
         null,
         null,
         null,
         null,
         null,
         null,
         null,
         false,
         null,
         "2025-09-26T20:18:44.293Z"
        ],
        [
         "BPNI35 BGN Curncy",
         null,
         "SUMMARY",
         "INITPAINT",
         33828,
         null,
         null,
         null,
         null,
         null,
         null,
         null,
         false,
         null,
         "2025-09-26T20:18:44.293Z"
        ],
        [
         "USNBFSAO BGN Curncy",
         "USD Cap 4Y13Y",
         "REFERENCE",
         "INITPAINT",
         35009,
         null,
         null,
         null,
         null,
         null,
         null,
         null,
         false,
         null,
         "2025-09-26T20:18:44.293Z"
        ],
        [
         "USNBFSAO BGN Curncy",
         null,
         "SUMMARY",
         "INITPAINT",
         33828,
         null,
         null,
         null,
         null,
         null,
         null,
         null,
         false,
         null,
         "2025-09-26T20:18:44.293Z"
        ],
        [
         "SAPQ1202 BGN Curncy",
         "ZAR SWPT PREM 75 12Y2Y",
         "REFERENCE",
         "INITPAINT",
         35009,
         null,
         null,
         null,
         null,
         null,
         null,
         null,
         false,
         null,
         "2025-09-26T20:18:44.293Z"
        ],
        [
         "SAPQ1202 BGN Curncy",
         null,
         "SUMMARY",
         "INITPAINT",
         33828,
         null,
         null,
         null,
         null,
         null,
         null,
         null,
         false,
         null,
         "2025-09-26T20:18:44.293Z"
        ],
        [
         "USPUAZ30 BGN Curncy",
         "US SP PR SOFR 350 30Y30Y",
         "REFERENCE",
         "INITPAINT",
         35009,
         null,
         null,
         null,
         null,
         null,
         null,
         null,
         false,
         null,
         "2025-09-26T20:18:44.293Z"
        ],
        [
         "USPUAZ30 BGN Curncy",
         null,
         "SUMMARY",
         "INITPAINT",
         33828,
         null,
         null,
         null,
         null,
         null,
         null,
         null,
         false,
         null,
         "2025-09-26T20:18:44.293Z"
        ],
        [
         "GBPGHFEA BGN Curncy",
         "GBP SWPT %VOL 50 20Y15Y",
         "REFERENCE",
         "INITPAINT",
         35009,
         null,
         null,
         null,
         null,
         null,
         null,
         null,
         false,
         null,
         "2025-09-26T20:18:44.293Z"
        ],
        [
         "GBPGHFEA BGN Curncy",
         null,
         "SUMMARY",
         "INITPAINT",
         33828,
         null,
         null,
         null,
         null,
         null,
         null,
         null,
         false,
         null,
         "2025-09-26T20:18:44.293Z"
        ]
       ],
       "datasetInfos": [],
       "dbfsResultPath": null,
       "isJsonSchema": true,
       "metadata": {
        "isDbfsCommandResult": false
       },
       "overflow": false,
       "plotOptions": {
        "customPlotOptions": {},
        "displayType": "table",
        "pivotAggregation": null,
        "pivotColumns": null,
        "xColumns": null,
        "yColumns": null
       },
       "removedWidgets": [],
       "schema": [
        {
         "metadata": "{}",
         "name": "SECURITY",
         "type": "\"string\""
        },
        {
         "metadata": "{}",
         "name": "NAME_RT",
         "type": "\"string\""
        },
        {
         "metadata": "{}",
         "name": "MKTDATA_EVENT_TYPE",
         "type": "\"string\""
        },
        {
         "metadata": "{}",
         "name": "MKTDATA_EVENT_SUBTYPE",
         "type": "\"string\""
        },
        {
         "metadata": "{}",
         "name": "EID",
         "type": "\"long\""
        },
        {
         "metadata": "{}",
         "name": "BID",
         "type": "\"double\""
        },
        {
         "metadata": "{}",
         "name": "ASK",
         "type": "\"double\""
        },
        {
         "metadata": "{}",
         "name": "LAST_PRICE",
         "type": "\"double\""
        },
        {
         "metadata": "{}",
         "name": "VOLUME",
         "type": "\"long\""
        },
        {
         "metadata": "{}",
         "name": "BID_SIZE",
         "type": "\"integer\""
        },
        {
         "metadata": "{}",
         "name": "ASK_SIZE",
         "type": "\"integer\""
        },
        {
         "metadata": "{}",
         "name": "SIZE_LAST_TRADE",
         "type": "\"integer\""
        },
        {
         "metadata": "{}",
         "name": "IS_DELAYED_STREAM",
         "type": "\"boolean\""
        },
        {
         "metadata": "{}",
         "name": "TRADE_UPDATE_STAMP_RT",
         "type": "\"timestamp\""
        },
        {
         "metadata": "{}",
         "name": "processed_timestamp",
         "type": "\"timestamp\""
        }
       ],
       "type": "table"
      }
     },
     "output_type": "display_data"
    }
   ],
   "source": [
    "display(mktData.limit(20))"
   ]
  },
  {
   "cell_type": "code",
   "execution_count": 0,
   "metadata": {
    "application/vnd.databricks.v1+cell": {
     "cellMetadata": {
      "byteLimit": 2048000,
      "rowLimit": 10000
     },
     "inputWidgets": {},
     "nuid": "8c4ce5f9-a4d5-44ed-a9d8-9b4591b68f00",
     "showTitle": false,
     "tableResultSettingsMap": {},
     "title": ""
    }
   },
   "outputs": [],
   "source": [
    "_ = (\n",
    "  mktData\n",
    "    .writeStream\n",
    "    .outputMode('append')\n",
    "    .option('checkpointLocation', '/Volumes/market_data/providers/bloomberg/checkpoints')\n",
    "    .toTable('market_data.providers.bloomberg_bpipe')\n",
    ")"
   ]
  },
  {
   "cell_type": "code",
   "execution_count": 0,
   "metadata": {
    "application/vnd.databricks.v1+cell": {
     "cellMetadata": {},
     "inputWidgets": {},
     "nuid": "13ac283a-7ff0-46d2-9187-abe75cc5d035",
     "showTitle": false,
     "tableResultSettingsMap": {},
     "title": ""
    }
   },
   "outputs": [],
   "source": []
  }
 ],
 "metadata": {
  "application/vnd.databricks.v1+notebook": {
   "computePreferences": null,
   "dashboards": [],
   "environmentMetadata": {
    "base_environment": "",
    "environment_version": "3"
   },
   "inputWidgetPreferences": null,
   "language": "python",
   "notebookMetadata": {
    "mostRecentlyExecutedCommandWithImplicitDF": {
     "commandId": 6016301386508913,
     "dataframes": [
      "_sqldf"
     ]
    },
    "pythonIndentUnit": 4
   },
   "notebookName": "01_bpipe_ingest",
   "widgets": {}
  },
  "language_info": {
   "name": "python"
  }
 },
 "nbformat": 4,
 "nbformat_minor": 0
}