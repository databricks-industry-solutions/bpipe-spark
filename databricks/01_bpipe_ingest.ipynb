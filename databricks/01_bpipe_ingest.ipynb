{
 "cells": [
  {
   "cell_type": "markdown",
   "metadata": {
    "application/vnd.databricks.v1+cell": {
     "cellMetadata": {},
     "inputWidgets": {},
     "nuid": "4bd0bc03-67d9-40a3-bc17-e62076b0d8f8",
     "showTitle": false,
     "tableResultSettingsMap": {},
     "title": ""
    }
   },
   "source": [
    "# Reading BPipe Data\n",
    "\n",
    "[![DBR](https://img.shields.io/badge/DBR-16.4-red?logo=databricks&style=for-the-badge)](https://docs.databricks.com/release-notes/runtime/16.4.html)\n",
    "[![CLOUD](https://img.shields.io/badge/CLOUD-ALL-blue?style=for-the-badge)](https://databricks.com/try-databricks)\n",
    "\n",
    "This project provides a Spark connector for Bloomberg B-Pipe, allowing real-time and reference market data to stream directly into Databricks. It enables use cases such as intraday risk calculations, while Unity Catalog ensures entitlements, governance, and full auditability of data access. "
   ]
  },
  {
   "cell_type": "code",
   "execution_count": 0,
   "metadata": {
    "application/vnd.databricks.v1+cell": {
     "cellMetadata": {
      "byteLimit": 2048000,
      "rowLimit": 10000
     },
     "inputWidgets": {},
     "nuid": "582b644d-ed70-499a-8cf8-f0a8c6426c92",
     "showTitle": false,
     "tableResultSettingsMap": {},
     "title": ""
    }
   },
   "outputs": [
    {
     "output_type": "display_data",
     "data": {
      "text/html": [
       "<style scoped>\n",
       "  .ansiout {\n",
       "    display: block;\n",
       "    unicode-bidi: embed;\n",
       "    white-space: pre-wrap;\n",
       "    word-wrap: break-word;\n",
       "    word-break: break-all;\n",
       "    font-family: \"Menlo\", \"Monaco\", \"Consolas\", \"Ubuntu Mono\", \"Source Code Pro\", monospace;\n",
       "    font-size: 13px;\n",
       "    color: #555;\n",
       "    margin-left: 4px;\n",
       "    line-height: 19px;\n",
       "  }\n",
       "</style>\n",
       "<div class=\"ansiout\">import com.bloomberglp.blpapi._\n",
       "import com.databricks.fsi.bpipe._\n",
       "</div>"
      ]
     },
     "metadata": {
      "application/vnd.databricks.v1+output": {
       "addedWidgets": {},
       "arguments": {},
       "data": "<div class=\"ansiout\">import com.bloomberglp.blpapi._\nimport com.databricks.fsi.bpipe._\n</div>",
       "datasetInfos": [],
       "metadata": {
        "isDbfsCommandResult": false
       },
       "removedWidgets": [],
       "type": "html"
      }
     }
    }
   ],
   "source": [
    "%scala\n",
    "// Make sure that we have both blpapi and databricks wrapper on classpath\n",
    "import com.bloomberglp.blpapi._\n",
    "import com.databricks.fsi.bpipe._"
   ]
  },
  {
   "cell_type": "markdown",
   "metadata": {
    "application/vnd.databricks.v1+cell": {
     "cellMetadata": {},
     "inputWidgets": {},
     "nuid": "2ead86e9-064f-4304-b0b6-4c9cd2866273",
     "showTitle": false,
     "tableResultSettingsMap": {},
     "title": ""
    }
   },
   "source": [
    "## Static Reference Data\n",
    "\n",
    "`//blp/staticMktData` is a type of API call (using Bloomberg’s BLPAPI) that asks for metadata or static attributes about securities — things that generally do not change tick-by-tick, such as Security descriptions, ISINs, CUSIPs, SEDOLs, Exchange codes, Sector classifications, etc. We mapped its service again spark application accepting below parameters.\n",
    "\n",
    "|                |  |\n",
    "|----------------| ----------- |\n",
    "| B-Pipe service | `//blp/staticMktData` |\n",
    "| Delivery mode      | request / response |\n",
    "| Spark mode      | batch |"
   ]
  },
  {
   "cell_type": "code",
   "execution_count": 0,
   "metadata": {
    "application/vnd.databricks.v1+cell": {
     "cellMetadata": {
      "byteLimit": 2048000,
      "rowLimit": 10000
     },
     "inputWidgets": {},
     "nuid": "43b52fd3-e1c2-4e8e-a966-9e88cdbb8a01",
     "showTitle": false,
     "tableResultSettingsMap": {},
     "title": ""
    }
   },
   "outputs": [],
   "source": [
    "staticMktData = (\n",
    "  spark\n",
    "    .read\n",
    "    .format(\"//blp/staticMktData\")\n",
    "\n",
    "    # B-PIPE connection\n",
    "    .option(\"serverAddresses\", \"['endpoint1', 'endpoint2']\")\n",
    "    .option(\"serverPort\", 8194)\n",
    "\n",
    "    # Files were added as spark local files in cluster configuration\n",
    "    .option(\"tlsCertificatePath\", \"rootCertificate.pk7\")\n",
    "    .option(\"tlsPrivateKeyPath\", \"privateKey.pk12\")\n",
    "    .option(\"tlsPrivateKeyPassword\", \"privateKeyPassword\")\n",
    "    .option(\"authApplicationName\", \"applicationName\")\n",
    "    .option(\"correlationId\", 999)\n",
    "\n",
    "    # Service configuration\n",
    "    .option(\"serviceName\", \"ReferenceDataRequest\")\n",
    "    .option(\"fields\", \"['BID', 'ASK', 'LAST_PRICE']\")\n",
    "    .option(\"securities\", \"['BGN Curncy', 'GBP BGN Curncy', 'EUR BGN Curncy', 'JPYEUR BGN Curncy']\")\n",
    "    .option(\"returnEids\", True)\n",
    "\n",
    "    # Start batch ingest\n",
    "    .load()\n",
    ")"
   ]
  },
  {
   "cell_type": "code",
   "execution_count": 0,
   "metadata": {
    "application/vnd.databricks.v1+cell": {
     "cellMetadata": {
      "byteLimit": 2048000,
      "rowLimit": 10000
     },
     "inputWidgets": {},
     "nuid": "f0cfb24c-e3bd-4481-b69c-5735df63b28c",
     "showTitle": false,
     "tableResultSettingsMap": {},
     "title": ""
    }
   },
   "outputs": [
    {
     "output_type": "display_data",
     "data": {
      "text/html": [
       "<style scoped>\n",
       "  .table-result-container {\n",
       "    max-height: 300px;\n",
       "    overflow: auto;\n",
       "  }\n",
       "  table, th, td {\n",
       "    border: 1px solid black;\n",
       "    border-collapse: collapse;\n",
       "  }\n",
       "  th, td {\n",
       "    padding: 5px;\n",
       "  }\n",
       "  th {\n",
       "    text-align: left;\n",
       "  }\n",
       "</style><div class='table-result-container'><table class='table-result'><thead style='background-color: white'><tr><th>SECURITY</th><th>BID</th><th>ASK</th><th>LAST_PRICE</th></tr></thead><tbody><tr><td>BGN Curncy</td><td>1.6721</td><td>1.6818</td><td>1.6769</td></tr><tr><td>GBP BGN Curncy</td><td>1.334</td><td>1.3341</td><td>1.3341</td></tr><tr><td>EUR BGN Curncy</td><td>1.1662</td><td>1.1663</td><td>1.1663</td></tr><tr><td>JPYEUR BGN Curncy</td><td>0.57265</td><td>0.57269</td><td>0.57267</td></tr></tbody></table></div>"
      ]
     },
     "metadata": {
      "application/vnd.databricks.v1+output": {
       "addedWidgets": {},
       "aggData": [],
       "aggError": "",
       "aggOverflow": false,
       "aggSchema": [],
       "aggSeriesLimitReached": false,
       "aggType": "",
       "arguments": {},
       "columnCustomDisplayInfos": {},
       "data": [
        [
         "BGN Curncy",
         1.6721,
         1.6818,
         1.6769
        ],
        [
         "GBP BGN Curncy",
         1.334,
         1.3341,
         1.3341
        ],
        [
         "EUR BGN Curncy",
         1.1662,
         1.1663,
         1.1663
        ],
        [
         "JPYEUR BGN Curncy",
         0.57265,
         0.57269,
         0.57267
        ]
       ],
       "datasetInfos": [],
       "dbfsResultPath": null,
       "isJsonSchema": true,
       "metadata": {},
       "overflow": false,
       "plotOptions": {
        "customPlotOptions": {},
        "displayType": "table",
        "pivotAggregation": null,
        "pivotColumns": null,
        "xColumns": null,
        "yColumns": null
       },
       "removedWidgets": [],
       "schema": [
        {
         "metadata": "{}",
         "name": "SECURITY",
         "type": "\"string\""
        },
        {
         "metadata": "{}",
         "name": "BID",
         "type": "\"double\""
        },
        {
         "metadata": "{}",
         "name": "ASK",
         "type": "\"double\""
        },
        {
         "metadata": "{}",
         "name": "LAST_PRICE",
         "type": "\"double\""
        }
       ],
       "type": "table"
      }
     }
    }
   ],
   "source": [
    "display(staticMktData)"
   ]
  },
  {
   "cell_type": "markdown",
   "metadata": {
    "application/vnd.databricks.v1+cell": {
     "cellMetadata": {},
     "inputWidgets": {},
     "nuid": "5817c6e9-b1fc-43cb-a3ba-0b5937b909fa",
     "showTitle": false,
     "tableResultSettingsMap": {},
     "title": ""
    }
   },
   "source": [
    "## Real Time data\n",
    "\n",
    "`//blp/mktdata` is the Bloomberg API service that streams real-time market data (quotes, trades, market depth) to client applications by subscription. \n",
    "Live data from the exchanges, it is critical to ensure delivery to specific applications only by tracking entitlement and lineage through unity catalog. A B-Pipe feed of market data must be limited to a given application only.\n",
    "\n",
    "|                |  |\n",
    "|----------------| ----------- |\n",
    "| B-Pipe service | `//blp/mktdata` |\n",
    "| Delivery mode      | publish / subscribe |\n",
    "| Spark mode      | streaming |\n"
   ]
  },
  {
   "cell_type": "code",
   "execution_count": 0,
   "metadata": {
    "application/vnd.databricks.v1+cell": {
     "cellMetadata": {
      "byteLimit": 2048000,
      "rowLimit": 10000
     },
     "inputWidgets": {},
     "nuid": "36203709-1c0c-4f42-9991-863708a95154",
     "showTitle": false,
     "tableResultSettingsMap": {},
     "title": ""
    }
   },
   "outputs": [],
   "source": [
    "securities = {\n",
    "  '33828': ['BGN Curncy', 'GBP BGN Curncy', 'EUR BGN Curncy', 'JPYEUR BGN Curncy'],\n",
    "  '38736': ['5RIZFU2 BGN Curncy', 'AB020310 BGN Curncy', 'AB020406 BGN Curncy', 'AB021030 BGN Curncy', 'AB030510 BGN Curncy', 'AB050710 BGN Curncy'],\n",
    "  '39489': ['0UU5C 95.3750 COMB Comdty', '0UU5C 95.3750 ELEC Comdty', '0UU5C 95.3750 PIT Comdty', '0UU5C 95.5000 COMB Comdty', '0UU5C 95.5000 ELEC Comdty', '0UU5C 95.5000 PIT Comdty']\n",
    "}\n",
    "all_securities = [sec for sublist in securities.values() for sec in sublist]"
   ]
  },
  {
   "cell_type": "code",
   "execution_count": 0,
   "metadata": {
    "application/vnd.databricks.v1+cell": {
     "cellMetadata": {
      "byteLimit": 2048000,
      "rowLimit": 10000
     },
     "inputWidgets": {},
     "nuid": "169073db-6d35-42bb-9391-46b445a49683",
     "showTitle": false,
     "tableResultSettingsMap": {},
     "title": ""
    }
   },
   "outputs": [],
   "source": [
    "from pyspark.sql.functions import current_timestamp, to_utc_timestamp, split\n",
    "import json\n",
    "\n",
    "mktData = (\n",
    "  \n",
    "  spark\n",
    "  \n",
    "      # mktData is a streaming endpoint\n",
    "      .readStream\n",
    "      .format(\"//blp/mktData\")\n",
    "\n",
    "      # B-PIPE connection\n",
    "      .option(\"serverAddresses\", \"['endpoint1', 'endpoint2']\")\n",
    "      .option(\"serverPort\", 8194)\n",
    "\n",
    "      # Files were added as spark local files in cluster configuration\n",
    "      .option(\"tlsCertificatePath\", \"rootCertificate.pk7\")\n",
    "      .option(\"tlsPrivateKeyPath\", \"privateKey.pk12\")\n",
    "      .option(\"tlsPrivateKeyPassword\", \"privateKeyPassword\")\n",
    "      .option(\"authApplicationName\", \"applicationName\")\n",
    "      .option(\"correlationId\", 999)\n",
    "\n",
    "      # Service configuration\n",
    "      .option(\"fields\", \"['MKTDATA_EVENT_TYPE','MKTDATA_EVENT_SUBTYPE','EID','LAST_PRICE','IS_DELAYED_STREAM','TRADE_UPDATE_STAMP_RT']\")\n",
    "      .option(\"securities\", json.dumps(all_securities))\n",
    "\n",
    "      # Custom logic\n",
    "      .option(\"permissive\", value = True)\n",
    "      .option(\"timezone\", \"UTC\")\n",
    "      .load()\n",
    "\n",
    "      # Add processing timestamp we can use for temporal entitlement\n",
    "      .withColumn(\n",
    "        'processed_timestamp',\n",
    "        to_utc_timestamp(current_timestamp(), \"UTC\")\n",
    "      )\n",
    ")"
   ]
  },
  {
   "cell_type": "code",
   "execution_count": 0,
   "metadata": {
    "application/vnd.databricks.v1+cell": {
     "cellMetadata": {
      "byteLimit": 2048000,
      "rowLimit": 10000
     },
     "inputWidgets": {},
     "nuid": "566b29fd-52ad-48a5-a131-20c537ca4eb7",
     "showTitle": false,
     "tableResultSettingsMap": {},
     "title": ""
    }
   },
   "outputs": [
    {
     "output_type": "display_data",
     "data": {
      "text/html": [
       "<style scoped>\n",
       "  .table-result-container {\n",
       "    max-height: 300px;\n",
       "    overflow: auto;\n",
       "  }\n",
       "  table, th, td {\n",
       "    border: 1px solid black;\n",
       "    border-collapse: collapse;\n",
       "  }\n",
       "  th, td {\n",
       "    padding: 5px;\n",
       "  }\n",
       "  th {\n",
       "    text-align: left;\n",
       "  }\n",
       "</style><div class='table-result-container'><table class='table-result'><thead style='background-color: white'><tr><th>SECURITY</th><th>MKTDATA_EVENT_TYPE</th><th>MKTDATA_EVENT_SUBTYPE</th><th>EID</th><th>LAST_PRICE</th><th>IS_DELAYED_STREAM</th><th>TRADE_UPDATE_STAMP_RT</th><th>processed_timestamp</th></tr></thead><tbody><tr><td>AB021030 BGN Curncy</td><td>SUMMARY</td><td>INITPAINT</td><td>33828</td><td>null</td><td>false</td><td>null</td><td>2025-09-25T20:37:16.875Z</td></tr><tr><td>EUR BGN Curncy</td><td>SUMMARY</td><td>INITPAINT</td><td>33828</td><td>1.1668</td><td>false</td><td>null</td><td>2025-09-25T20:37:16.875Z</td></tr><tr><td>GBP BGN Curncy</td><td>SUMMARY</td><td>INITPAINT</td><td>33828</td><td>1.3344</td><td>false</td><td>null</td><td>2025-09-25T20:37:16.875Z</td></tr><tr><td>GBP BGN Curncy</td><td>TRADE</td><td>NEW</td><td>33828</td><td>1.3344</td><td>false</td><td>2025-09-25T20:37:20Z</td><td>2025-09-25T20:37:16.875Z</td></tr><tr><td>BGN Curncy</td><td>SUMMARY</td><td>INITPAINT</td><td>33828</td><td>1.6764</td><td>false</td><td>null</td><td>2025-09-25T20:37:16.875Z</td></tr></tbody></table></div>"
      ]
     },
     "metadata": {
      "application/vnd.databricks.v1+output": {
       "addedWidgets": {},
       "aggData": [],
       "aggError": "",
       "aggOverflow": false,
       "aggSchema": [],
       "aggSeriesLimitReached": false,
       "aggType": "",
       "arguments": {},
       "columnCustomDisplayInfos": {},
       "data": [
        [
         "AB021030 BGN Curncy",
         "SUMMARY",
         "INITPAINT",
         33828,
         null,
         false,
         null,
         "2025-09-25T20:37:16.875Z"
        ],
        [
         "EUR BGN Curncy",
         "SUMMARY",
         "INITPAINT",
         33828,
         1.1668,
         false,
         null,
         "2025-09-25T20:37:16.875Z"
        ],
        [
         "GBP BGN Curncy",
         "SUMMARY",
         "INITPAINT",
         33828,
         1.3344,
         false,
         null,
         "2025-09-25T20:37:16.875Z"
        ],
        [
         "GBP BGN Curncy",
         "TRADE",
         "NEW",
         33828,
         1.3344,
         false,
         "2025-09-25T20:37:20Z",
         "2025-09-25T20:37:16.875Z"
        ],
        [
         "BGN Curncy",
         "SUMMARY",
         "INITPAINT",
         33828,
         1.6764,
         false,
         null,
         "2025-09-25T20:37:16.875Z"
        ]
       ],
       "datasetInfos": [],
       "dbfsResultPath": null,
       "isJsonSchema": true,
       "metadata": {
        "isDbfsCommandResult": false
       },
       "overflow": false,
       "plotOptions": {
        "customPlotOptions": {},
        "displayType": "table",
        "pivotAggregation": null,
        "pivotColumns": null,
        "xColumns": null,
        "yColumns": null
       },
       "removedWidgets": [],
       "schema": [
        {
         "metadata": "{}",
         "name": "SECURITY",
         "type": "\"string\""
        },
        {
         "metadata": "{}",
         "name": "MKTDATA_EVENT_TYPE",
         "type": "\"string\""
        },
        {
         "metadata": "{}",
         "name": "MKTDATA_EVENT_SUBTYPE",
         "type": "\"string\""
        },
        {
         "metadata": "{}",
         "name": "EID",
         "type": "\"long\""
        },
        {
         "metadata": "{}",
         "name": "LAST_PRICE",
         "type": "\"double\""
        },
        {
         "metadata": "{}",
         "name": "IS_DELAYED_STREAM",
         "type": "\"boolean\""
        },
        {
         "metadata": "{}",
         "name": "TRADE_UPDATE_STAMP_RT",
         "type": "\"timestamp\""
        },
        {
         "metadata": "{}",
         "name": "processed_timestamp",
         "type": "\"timestamp\""
        }
       ],
       "type": "table"
      }
     }
    }
   ],
   "source": [
    "display(mktData.limit(5))"
   ]
  },
  {
   "cell_type": "code",
   "execution_count": 0,
   "metadata": {
    "application/vnd.databricks.v1+cell": {
     "cellMetadata": {
      "byteLimit": 2048000,
      "rowLimit": 10000
     },
     "inputWidgets": {},
     "nuid": "8c4ce5f9-a4d5-44ed-a9d8-9b4591b68f00",
     "showTitle": false,
     "tableResultSettingsMap": {},
     "title": ""
    }
   },
   "outputs": [],
   "source": [
    "_ = (\n",
    "  mktData\n",
    "    .writeStream\n",
    "    .outputMode('append')\n",
    "    .option('checkpointLocation', '/Volumes/market_data/providers/bloomberg/checkpoints')\n",
    "    .toTable('market_data.providers.bloomberg_bpipe')\n",
    ")"
   ]
  },
  {
   "cell_type": "code",
   "execution_count": 0,
   "metadata": {
    "application/vnd.databricks.v1+cell": {
     "cellMetadata": {},
     "inputWidgets": {},
     "nuid": "ebfcd8d4-55ba-4555-82b2-9faf55724464",
     "showTitle": false,
     "tableResultSettingsMap": {},
     "title": ""
    }
   },
   "outputs": [],
   "source": []
  }
 ],
 "metadata": {
  "application/vnd.databricks.v1+notebook": {
   "computePreferences": null,
   "dashboards": [],
   "environmentMetadata": {
    "base_environment": "",
    "environment_version": "3"
   },
   "inputWidgetPreferences": null,
   "language": "python",
   "notebookMetadata": {
    "pythonIndentUnit": 4
   },
   "notebookName": "BPIPE STREAMING",
   "widgets": {}
  },
  "language_info": {
   "name": "python"
  }
 },
 "nbformat": 4,
 "nbformat_minor": 0
}
