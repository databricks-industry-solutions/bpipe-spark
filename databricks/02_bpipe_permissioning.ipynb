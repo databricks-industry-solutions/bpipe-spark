{
 "cells": [
  {
   "cell_type": "markdown",
   "metadata": {
    "application/vnd.databricks.v1+cell": {
     "cellMetadata": {},
     "inputWidgets": {},
     "nuid": "84c9a9f3-3c57-455a-ba83-8224e855bbd6",
     "showTitle": false,
     "tableResultSettingsMap": {},
     "title": ""
    }
   },
   "source": [
    "# BPipe permissioning\n",
    "\n",
    "Every market data feed is subject to strict licensing rules set by exchanges, which define who can access what information and how it can be used. Without fine-grained entitlements, providers risk over-distribution of data, leading to compliance violations, financial penalties, and even loss of licensing rights. By enforcing entitlements, Bloomberg can guarantee that clients receive the right data, exchanges are properly compensated, and the entire ecosystem maintains trust and regulatory alignment."
   ]
  },
  {
   "cell_type": "markdown",
   "metadata": {
    "application/vnd.databricks.v1+cell": {
     "cellMetadata": {},
     "inputWidgets": {},
     "nuid": "e36d8a2c-3e15-4e13-81b7-845783900a99",
     "showTitle": false,
     "tableResultSettingsMap": {},
     "title": ""
    }
   },
   "source": [
    "## Reading our BPipe table\n",
    "Without any permissioning enforced, we read all bpipe table as-is regardless on user permissioning.\n",
    "This is just for testing purpose"
   ]
  },
  {
   "cell_type": "code",
   "execution_count": 0,
   "metadata": {
    "application/vnd.databricks.v1+cell": {
     "cellMetadata": {
      "byteLimit": 2048000,
      "rowLimit": 10000
     },
     "inputWidgets": {},
     "nuid": "7405d46e-5530-4412-a87f-f0898435ea51",
     "showTitle": false,
     "tableResultSettingsMap": {},
     "title": ""
    }
   },
   "outputs": [
    {
     "output_type": "display_data",
     "data": {
      "text/html": [
       "<style scoped>\n",
       "  .table-result-container {\n",
       "    max-height: 300px;\n",
       "    overflow: auto;\n",
       "  }\n",
       "  table, th, td {\n",
       "    border: 1px solid black;\n",
       "    border-collapse: collapse;\n",
       "  }\n",
       "  th, td {\n",
       "    padding: 5px;\n",
       "  }\n",
       "  th {\n",
       "    text-align: left;\n",
       "  }\n",
       "</style><div class='table-result-container'><table class='table-result'><thead style='background-color: white'><tr><th>SECURITY</th><th>MKTDATA_EVENT_TYPE</th><th>MKTDATA_EVENT_SUBTYPE</th><th>EID</th><th>LAST_PRICE</th><th>IS_DELAYED_STREAM</th><th>TRADE_UPDATE_STAMP_RT</th><th>processed_timestamp</th></tr></thead><tbody><tr><td>GBP BGN Curncy</td><td>SUMMARY</td><td>INITPAINT</td><td>33828</td><td>1.3342</td><td>false</td><td>null</td><td>2025-09-25T20:22:42.749Z</td></tr><tr><td>AB020406 BGN Curncy</td><td>SUMMARY</td><td>INITPAINT</td><td>33828</td><td>null</td><td>false</td><td>null</td><td>2025-09-25T20:22:42.749Z</td></tr><tr><td>AB030510 BGN Curncy</td><td>SUMMARY</td><td>INITPAINT</td><td>33828</td><td>null</td><td>false</td><td>null</td><td>2025-09-25T20:22:42.749Z</td></tr><tr><td>AB050710 BGN Curncy</td><td>SUMMARY</td><td>INITPAINT</td><td>33828</td><td>null</td><td>false</td><td>null</td><td>2025-09-25T20:22:42.749Z</td></tr><tr><td>5RIZFU2 BGN Curncy</td><td>SUMMARY</td><td>INITPAINT</td><td>33828</td><td>null</td><td>false</td><td>null</td><td>2025-09-25T20:22:42.749Z</td></tr><tr><td>EUR BGN Curncy</td><td>SUMMARY</td><td>INITPAINT</td><td>33828</td><td>1.1665</td><td>false</td><td>null</td><td>2025-09-25T20:22:42.749Z</td></tr><tr><td>AB021030 BGN Curncy</td><td>SUMMARY</td><td>INITPAINT</td><td>33828</td><td>null</td><td>false</td><td>null</td><td>2025-09-25T20:22:42.749Z</td></tr><tr><td>BGN Curncy</td><td>SUMMARY</td><td>INITPAINT</td><td>33828</td><td>1.677</td><td>false</td><td>null</td><td>2025-09-25T20:22:42.749Z</td></tr><tr><td>AB020310 BGN Curncy</td><td>SUMMARY</td><td>INITPAINT</td><td>33828</td><td>null</td><td>false</td><td>null</td><td>2025-09-25T20:22:42.749Z</td></tr><tr><td>JPYEUR BGN Curncy</td><td>SUMMARY</td><td>INITPAINT</td><td>33828</td><td>0.57244</td><td>false</td><td>null</td><td>2025-09-25T20:22:42.749Z</td></tr><tr><td>GBP BGN Curncy</td><td>TRADE</td><td>NEW</td><td>33828</td><td>1.3342</td><td>false</td><td>2025-09-25T20:22:46.000Z</td><td>2025-09-25T20:22:42.749Z</td></tr><tr><td>EUR BGN Curncy</td><td>TRADE</td><td>NEW</td><td>33828</td><td>1.1665</td><td>false</td><td>2025-09-25T20:22:46.000Z</td><td>2025-09-25T20:22:42.749Z</td></tr><tr><td>EUR BGN Curncy</td><td>TRADE</td><td>NEW</td><td>33828</td><td>1.1665</td><td>false</td><td>2025-09-25T20:22:46.000Z</td><td>2025-09-25T20:22:42.749Z</td></tr><tr><td>GBP BGN Curncy</td><td>TRADE</td><td>NEW</td><td>33828</td><td>1.3342</td><td>false</td><td>2025-09-25T20:22:46.000Z</td><td>2025-09-25T20:22:42.749Z</td></tr><tr><td>GBP BGN Curncy</td><td>TRADE</td><td>NEW</td><td>33828</td><td>1.3342</td><td>false</td><td>2025-09-25T20:22:46.000Z</td><td>2025-09-25T20:22:42.749Z</td></tr><tr><td>GBP BGN Curncy</td><td>TRADE</td><td>NEW</td><td>33828</td><td>1.3342</td><td>false</td><td>2025-09-25T20:22:46.000Z</td><td>2025-09-25T20:22:42.749Z</td></tr><tr><td>EUR BGN Curncy</td><td>TRADE</td><td>NEW</td><td>33828</td><td>1.1665</td><td>false</td><td>2025-09-25T20:22:46.000Z</td><td>2025-09-25T20:22:42.749Z</td></tr><tr><td>EUR BGN Curncy</td><td>TRADE</td><td>NEW</td><td>33828</td><td>1.1665</td><td>false</td><td>2025-09-25T20:22:46.000Z</td><td>2025-09-25T20:22:42.749Z</td></tr><tr><td>EUR BGN Curncy</td><td>TRADE</td><td>NEW</td><td>33828</td><td>1.1665</td><td>false</td><td>2025-09-25T20:22:46.000Z</td><td>2025-09-25T20:22:42.749Z</td></tr><tr><td>EUR BGN Curncy</td><td>TRADE</td><td>NEW</td><td>33828</td><td>1.1665</td><td>false</td><td>2025-09-25T20:22:46.000Z</td><td>2025-09-25T20:22:42.749Z</td></tr></tbody></table></div>"
      ]
     },
     "metadata": {
      "application/vnd.databricks.v1+output": {
       "addedWidgets": {},
       "aggData": [],
       "aggError": "",
       "aggOverflow": false,
       "aggSchema": [],
       "aggSeriesLimitReached": false,
       "aggType": "",
       "arguments": {},
       "columnCustomDisplayInfos": {},
       "data": [
        [
         "GBP BGN Curncy",
         "SUMMARY",
         "INITPAINT",
         33828,
         1.3342,
         false,
         null,
         "2025-09-25T20:22:42.749Z"
        ],
        [
         "AB020406 BGN Curncy",
         "SUMMARY",
         "INITPAINT",
         33828,
         null,
         false,
         null,
         "2025-09-25T20:22:42.749Z"
        ],
        [
         "AB030510 BGN Curncy",
         "SUMMARY",
         "INITPAINT",
         33828,
         null,
         false,
         null,
         "2025-09-25T20:22:42.749Z"
        ],
        [
         "AB050710 BGN Curncy",
         "SUMMARY",
         "INITPAINT",
         33828,
         null,
         false,
         null,
         "2025-09-25T20:22:42.749Z"
        ],
        [
         "5RIZFU2 BGN Curncy",
         "SUMMARY",
         "INITPAINT",
         33828,
         null,
         false,
         null,
         "2025-09-25T20:22:42.749Z"
        ],
        [
         "EUR BGN Curncy",
         "SUMMARY",
         "INITPAINT",
         33828,
         1.1665,
         false,
         null,
         "2025-09-25T20:22:42.749Z"
        ],
        [
         "AB021030 BGN Curncy",
         "SUMMARY",
         "INITPAINT",
         33828,
         null,
         false,
         null,
         "2025-09-25T20:22:42.749Z"
        ],
        [
         "BGN Curncy",
         "SUMMARY",
         "INITPAINT",
         33828,
         1.677,
         false,
         null,
         "2025-09-25T20:22:42.749Z"
        ],
        [
         "AB020310 BGN Curncy",
         "SUMMARY",
         "INITPAINT",
         33828,
         null,
         false,
         null,
         "2025-09-25T20:22:42.749Z"
        ],
        [
         "JPYEUR BGN Curncy",
         "SUMMARY",
         "INITPAINT",
         33828,
         0.57244,
         false,
         null,
         "2025-09-25T20:22:42.749Z"
        ],
        [
         "GBP BGN Curncy",
         "TRADE",
         "NEW",
         33828,
         1.3342,
         false,
         "2025-09-25T20:22:46.000Z",
         "2025-09-25T20:22:42.749Z"
        ],
        [
         "EUR BGN Curncy",
         "TRADE",
         "NEW",
         33828,
         1.1665,
         false,
         "2025-09-25T20:22:46.000Z",
         "2025-09-25T20:22:42.749Z"
        ],
        [
         "EUR BGN Curncy",
         "TRADE",
         "NEW",
         33828,
         1.1665,
         false,
         "2025-09-25T20:22:46.000Z",
         "2025-09-25T20:22:42.749Z"
        ],
        [
         "GBP BGN Curncy",
         "TRADE",
         "NEW",
         33828,
         1.3342,
         false,
         "2025-09-25T20:22:46.000Z",
         "2025-09-25T20:22:42.749Z"
        ],
        [
         "GBP BGN Curncy",
         "TRADE",
         "NEW",
         33828,
         1.3342,
         false,
         "2025-09-25T20:22:46.000Z",
         "2025-09-25T20:22:42.749Z"
        ],
        [
         "GBP BGN Curncy",
         "TRADE",
         "NEW",
         33828,
         1.3342,
         false,
         "2025-09-25T20:22:46.000Z",
         "2025-09-25T20:22:42.749Z"
        ],
        [
         "EUR BGN Curncy",
         "TRADE",
         "NEW",
         33828,
         1.1665,
         false,
         "2025-09-25T20:22:46.000Z",
         "2025-09-25T20:22:42.749Z"
        ],
        [
         "EUR BGN Curncy",
         "TRADE",
         "NEW",
         33828,
         1.1665,
         false,
         "2025-09-25T20:22:46.000Z",
         "2025-09-25T20:22:42.749Z"
        ],
        [
         "EUR BGN Curncy",
         "TRADE",
         "NEW",
         33828,
         1.1665,
         false,
         "2025-09-25T20:22:46.000Z",
         "2025-09-25T20:22:42.749Z"
        ],
        [
         "EUR BGN Curncy",
         "TRADE",
         "NEW",
         33828,
         1.1665,
         false,
         "2025-09-25T20:22:46.000Z",
         "2025-09-25T20:22:42.749Z"
        ]
       ],
       "datasetInfos": [],
       "dbfsResultPath": null,
       "isJsonSchema": true,
       "metadata": {},
       "overflow": false,
       "plotOptions": {
        "customPlotOptions": {},
        "displayType": "table",
        "pivotAggregation": null,
        "pivotColumns": null,
        "xColumns": null,
        "yColumns": null
       },
       "removedWidgets": [],
       "schema": [
        {
         "metadata": "{}",
         "name": "SECURITY",
         "type": "\"string\"",
         "typeName": "STRING",
         "typeText": "STRING"
        },
        {
         "metadata": "{}",
         "name": "MKTDATA_EVENT_TYPE",
         "type": "\"string\"",
         "typeName": "STRING",
         "typeText": "STRING"
        },
        {
         "metadata": "{}",
         "name": "MKTDATA_EVENT_SUBTYPE",
         "type": "\"string\"",
         "typeName": "STRING",
         "typeText": "STRING"
        },
        {
         "metadata": "{}",
         "name": "EID",
         "type": "\"long\"",
         "typeName": "LONG",
         "typeText": "BIGINT"
        },
        {
         "metadata": "{}",
         "name": "LAST_PRICE",
         "type": "\"double\"",
         "typeName": "DOUBLE",
         "typeText": "DOUBLE"
        },
        {
         "metadata": "{}",
         "name": "IS_DELAYED_STREAM",
         "type": "\"boolean\"",
         "typeName": "BOOLEAN",
         "typeText": "BOOLEAN"
        },
        {
         "metadata": "{}",
         "name": "TRADE_UPDATE_STAMP_RT",
         "type": "\"timestamp\"",
         "typeName": "TIMESTAMP",
         "typeText": "TIMESTAMP"
        },
        {
         "metadata": "{}",
         "name": "processed_timestamp",
         "type": "\"timestamp\"",
         "typeName": "TIMESTAMP",
         "typeText": "TIMESTAMP"
        }
       ],
       "type": "table"
      }
     },
     "output_type": "display_data"
    }
   ],
   "source": [
    "SELECT * FROM market_data.providers.bloomberg_bpipe\n",
    "LIMIT 20"
   ]
  },
  {
   "cell_type": "markdown",
   "metadata": {
    "application/vnd.databricks.v1+cell": {
     "cellMetadata": {},
     "inputWidgets": {},
     "nuid": "00fbb322-6d54-458b-b258-2e663a649a8e",
     "showTitle": false,
     "tableResultSettingsMap": {},
     "title": ""
    }
   },
   "source": [
    "## Reading our entitlements tables\n",
    "This follows a SCD type 2 model so that entitlements are revoked but not dropped and ensure full audit.\n",
    "Furthermore, can allow back processing / reply with as-of permissions (if required)"
   ]
  },
  {
   "cell_type": "code",
   "execution_count": 0,
   "metadata": {
    "application/vnd.databricks.v1+cell": {
     "cellMetadata": {
      "byteLimit": 2048000,
      "rowLimit": 10000
     },
     "inputWidgets": {},
     "nuid": "557358e8-967e-4f9b-8908-511baf88d57c",
     "showTitle": false,
     "tableResultSettingsMap": {},
     "title": ""
    }
   },
   "outputs": [
    {
     "output_type": "display_data",
     "data": {
      "text/html": [
       "<style scoped>\n",
       "  .table-result-container {\n",
       "    max-height: 300px;\n",
       "    overflow: auto;\n",
       "  }\n",
       "  table, th, td {\n",
       "    border: 1px solid black;\n",
       "    border-collapse: collapse;\n",
       "  }\n",
       "  th, td {\n",
       "    padding: 5px;\n",
       "  }\n",
       "  th {\n",
       "    text-align: left;\n",
       "  }\n",
       "</style><div class='table-result-container'><table class='table-result'><thead style='background-color: white'><tr><th>id</th><th>entitlement_id</th><th>principal_id</th><th>is_granted</th><th>version</th><th>effective_from</th><th>effective_to</th><th>is_current</th></tr></thead><tbody><tr><td>2</td><td>38736</td><td>antoine.amend+isv@databricks.com</td><td>true</td><td>1</td><td>2025-09-25T19:08:29.811Z</td><td>null</td><td>true</td></tr><tr><td>3</td><td>39489</td><td>antoine.amend+isv@databricks.com</td><td>true</td><td>1</td><td>2025-09-25T19:08:43.624Z</td><td>null</td><td>true</td></tr><tr><td>1</td><td>33828</td><td>antoine.amend+isv@databricks.com</td><td>true</td><td>1</td><td>2025-09-25T19:07:30.898Z</td><td>2025-09-25T20:06:48.665Z</td><td>false</td></tr><tr><td>4</td><td>33828</td><td>antoine.amend+isv@databricks.com</td><td>false</td><td>2</td><td>2025-09-25T20:06:48.665Z</td><td>2025-09-25T20:07:22.826Z</td><td>false</td></tr><tr><td>5</td><td>33828</td><td>antoine.amend+isv@databricks.com</td><td>true</td><td>3</td><td>2025-09-25T20:07:22.826Z</td><td>null</td><td>true</td></tr></tbody></table></div>"
      ]
     },
     "metadata": {
      "application/vnd.databricks.v1+output": {
       "addedWidgets": {},
       "aggData": [],
       "aggError": "",
       "aggOverflow": false,
       "aggSchema": [],
       "aggSeriesLimitReached": false,
       "aggType": "",
       "arguments": {},
       "columnCustomDisplayInfos": {},
       "data": [
        [
         2,
         "38736",
         "antoine.amend+isv@databricks.com",
         true,
         1,
         "2025-09-25T19:08:29.811Z",
         null,
         true
        ],
        [
         3,
         "39489",
         "antoine.amend+isv@databricks.com",
         true,
         1,
         "2025-09-25T19:08:43.624Z",
         null,
         true
        ],
        [
         1,
         "33828",
         "antoine.amend+isv@databricks.com",
         true,
         1,
         "2025-09-25T19:07:30.898Z",
         "2025-09-25T20:06:48.665Z",
         false
        ],
        [
         4,
         "33828",
         "antoine.amend+isv@databricks.com",
         false,
         2,
         "2025-09-25T20:06:48.665Z",
         "2025-09-25T20:07:22.826Z",
         false
        ],
        [
         5,
         "33828",
         "antoine.amend+isv@databricks.com",
         true,
         3,
         "2025-09-25T20:07:22.826Z",
         null,
         true
        ]
       ],
       "datasetInfos": [],
       "dbfsResultPath": null,
       "isJsonSchema": true,
       "metadata": {},
       "overflow": false,
       "plotOptions": {
        "customPlotOptions": {},
        "displayType": "table",
        "pivotAggregation": null,
        "pivotColumns": null,
        "xColumns": null,
        "yColumns": null
       },
       "removedWidgets": [],
       "schema": [
        {
         "metadata": "{}",
         "name": "id",
         "type": "\"integer\"",
         "typeName": "INT",
         "typeText": "INT"
        },
        {
         "metadata": "{}",
         "name": "entitlement_id",
         "type": "\"string\"",
         "typeName": "STRING",
         "typeText": "STRING"
        },
        {
         "metadata": "{}",
         "name": "principal_id",
         "type": "\"string\"",
         "typeName": "STRING",
         "typeText": "STRING"
        },
        {
         "metadata": "{}",
         "name": "is_granted",
         "type": "\"boolean\"",
         "typeName": "BOOLEAN",
         "typeText": "BOOLEAN"
        },
        {
         "metadata": "{}",
         "name": "version",
         "type": "\"integer\"",
         "typeName": "INT",
         "typeText": "INT"
        },
        {
         "metadata": "{}",
         "name": "effective_from",
         "type": "\"timestamp\"",
         "typeName": "TIMESTAMP",
         "typeText": "TIMESTAMP"
        },
        {
         "metadata": "{}",
         "name": "effective_to",
         "type": "\"timestamp\"",
         "typeName": "TIMESTAMP",
         "typeText": "TIMESTAMP"
        },
        {
         "metadata": "{}",
         "name": "is_current",
         "type": "\"boolean\"",
         "typeName": "BOOLEAN",
         "typeText": "BOOLEAN"
        }
       ],
       "type": "table"
      }
     },
     "output_type": "display_data"
    }
   ],
   "source": [
    "SELECT * FROM market_data_entitlements.public.bpipe;"
   ]
  },
  {
   "cell_type": "markdown",
   "metadata": {
    "application/vnd.databricks.v1+cell": {
     "cellMetadata": {},
     "inputWidgets": {},
     "nuid": "a0568539-c5cc-4444-9ea9-f7504d24b541",
     "showTitle": false,
     "tableResultSettingsMap": {},
     "title": ""
    }
   },
   "source": [
    "## Create a permissioning function\n",
    "We create a simple UC function atop of our entitlement table to test user permissioning. \n",
    "Given a EID, we check user ownership and entitlement status."
   ]
  },
  {
   "cell_type": "code",
   "execution_count": 0,
   "metadata": {
    "application/vnd.databricks.v1+cell": {
     "cellMetadata": {
      "byteLimit": 2048000,
      "rowLimit": 10000
     },
     "inputWidgets": {},
     "nuid": "22d7590f-b6fc-4ba3-b9e0-a28cb22ac747",
     "showTitle": false,
     "tableResultSettingsMap": {},
     "title": ""
    }
   },
   "outputs": [
    {
     "output_type": "display_data",
     "data": {
      "text/html": [
       "<style scoped>\n",
       "  .table-result-container {\n",
       "    max-height: 300px;\n",
       "    overflow: auto;\n",
       "  }\n",
       "  table, th, td {\n",
       "    border: 1px solid black;\n",
       "    border-collapse: collapse;\n",
       "  }\n",
       "  th, td {\n",
       "    padding: 5px;\n",
       "  }\n",
       "  th {\n",
       "    text-align: left;\n",
       "  }\n",
       "</style><div class='table-result-container'><table class='table-result'><thead style='background-color: white'><tr></tr></thead><tbody></tbody></table></div>"
      ]
     },
     "metadata": {
      "application/vnd.databricks.v1+output": {
       "addedWidgets": {},
       "aggData": [],
       "aggError": "",
       "aggOverflow": false,
       "aggSchema": [],
       "aggSeriesLimitReached": false,
       "aggType": "",
       "arguments": {},
       "columnCustomDisplayInfos": {},
       "data": [],
       "datasetInfos": [],
       "dbfsResultPath": null,
       "isJsonSchema": true,
       "metadata": {},
       "overflow": false,
       "plotOptions": {
        "customPlotOptions": {},
        "displayType": "table",
        "pivotAggregation": null,
        "pivotColumns": null,
        "xColumns": null,
        "yColumns": null
       },
       "removedWidgets": [],
       "schema": [],
       "type": "table"
      }
     },
     "output_type": "display_data"
    }
   ],
   "source": [
    "CREATE OR REPLACE FUNCTION market_data.providers.is_bpipe_eid_member(\n",
    "  eid STRING COMMENT 'The bloomberg entitlement ID we want to test user permissioning against'\n",
    "  )\n",
    "RETURNS BOOLEAN\n",
    "COMMENT 'Test if user has permission to a given bloomberg entitlement Id'\n",
    "RETURN EXISTS (\n",
    "  SELECT * FROM market_data_entitlements.public.bpipe\n",
    "  WHERE principal_id = current_user\n",
    "  AND entitlement_id = eid\n",
    "  AND is_current\n",
    "  AND is_granted\n",
    ");"
   ]
  },
  {
   "cell_type": "markdown",
   "metadata": {
    "application/vnd.databricks.v1+cell": {
     "cellMetadata": {},
     "inputWidgets": {},
     "nuid": "953a4012-981d-4911-a7d7-996d8fd4a1d8",
     "showTitle": false,
     "tableResultSettingsMap": {},
     "title": ""
    }
   },
   "source": [
    "Let us play with our UI to grant or revoke specific entitlements. \n",
    "We should see permissioning being reflected here right away since we do not depend on any ETL"
   ]
  },
  {
   "cell_type": "code",
   "execution_count": 0,
   "metadata": {
    "application/vnd.databricks.v1+cell": {
     "cellMetadata": {
      "byteLimit": 2048000,
      "rowLimit": 10000
     },
     "inputWidgets": {},
     "nuid": "2a5e7c1c-78e8-4fcd-9a60-4721d9d29d48",
     "showTitle": false,
     "tableResultSettingsMap": {
      "0": {
       "dataGridStateBlob": "{\"version\":1,\"tableState\":{\"columnPinning\":{\"left\":[\"#row_number#\"],\"right\":[]},\"columnSizing\":{},\"columnVisibility\":{}},\"settings\":{\"columns\":{}},\"syncTimestamp\":1758831207554}",
       "filterBlob": null,
       "queryPlanFiltersBlob": null,
       "tableResultIndex": 0
      }
     },
     "title": ""
    }
   },
   "outputs": [
    {
     "output_type": "display_data",
     "data": {
      "text/html": [
       "<style scoped>\n",
       "  .table-result-container {\n",
       "    max-height: 300px;\n",
       "    overflow: auto;\n",
       "  }\n",
       "  table, th, td {\n",
       "    border: 1px solid black;\n",
       "    border-collapse: collapse;\n",
       "  }\n",
       "  th, td {\n",
       "    padding: 5px;\n",
       "  }\n",
       "  th {\n",
       "    text-align: left;\n",
       "  }\n",
       "</style><div class='table-result-container'><table class='table-result'><thead style='background-color: white'><tr><th>IS_GRANTED</th></tr></thead><tbody><tr><td>true</td></tr></tbody></table></div>"
      ]
     },
     "metadata": {
      "application/vnd.databricks.v1+output": {
       "addedWidgets": {},
       "aggData": [],
       "aggError": "",
       "aggOverflow": false,
       "aggSchema": [],
       "aggSeriesLimitReached": false,
       "aggType": "",
       "arguments": {},
       "columnCustomDisplayInfos": {},
       "data": [
        [
         true
        ]
       ],
       "datasetInfos": [],
       "dbfsResultPath": null,
       "isJsonSchema": true,
       "metadata": {},
       "overflow": false,
       "plotOptions": {
        "customPlotOptions": {},
        "displayType": "table",
        "pivotAggregation": null,
        "pivotColumns": null,
        "xColumns": null,
        "yColumns": null
       },
       "removedWidgets": [],
       "schema": [
        {
         "metadata": "{}",
         "name": "IS_GRANTED",
         "type": "\"boolean\"",
         "typeName": "BOOLEAN",
         "typeText": "BOOLEAN"
        }
       ],
       "type": "table"
      }
     },
     "output_type": "display_data"
    }
   ],
   "source": [
    "SELECT market_data.providers.is_bpipe_eid_member('33828') AS IS_GRANTED;"
   ]
  },
  {
   "cell_type": "markdown",
   "metadata": {
    "application/vnd.databricks.v1+cell": {
     "cellMetadata": {},
     "inputWidgets": {},
     "nuid": "10d74a2b-f82a-4254-bff6-1694c13a00a0",
     "showTitle": false,
     "tableResultSettingsMap": {},
     "title": ""
    }
   },
   "source": [
    "## Reading our BPipe table\n",
    "With our permissioning function registered, we can use entitlement as ways to filter out records we are not entitled to see.\n",
    "This is just for testing purpose and will be enforced later."
   ]
  },
  {
   "cell_type": "code",
   "execution_count": 0,
   "metadata": {
    "application/vnd.databricks.v1+cell": {
     "cellMetadata": {
      "byteLimit": 2048000,
      "rowLimit": 10000
     },
     "inputWidgets": {},
     "nuid": "5e19cde2-cc76-43ec-847c-b31a6c04c544",
     "showTitle": false,
     "tableResultSettingsMap": {},
     "title": ""
    }
   },
   "outputs": [
    {
     "output_type": "display_data",
     "data": {
      "text/html": [
       "<style scoped>\n",
       "  .table-result-container {\n",
       "    max-height: 300px;\n",
       "    overflow: auto;\n",
       "  }\n",
       "  table, th, td {\n",
       "    border: 1px solid black;\n",
       "    border-collapse: collapse;\n",
       "  }\n",
       "  th, td {\n",
       "    padding: 5px;\n",
       "  }\n",
       "  th {\n",
       "    text-align: left;\n",
       "  }\n",
       "</style><div class='table-result-container'><table class='table-result'><thead style='background-color: white'><tr><th>SECURITY</th><th>MKTDATA_EVENT_TYPE</th><th>MKTDATA_EVENT_SUBTYPE</th><th>EID</th><th>LAST_PRICE</th><th>IS_DELAYED_STREAM</th><th>TRADE_UPDATE_STAMP_RT</th><th>processed_timestamp</th></tr></thead><tbody><tr><td>GBP BGN Curncy</td><td>SUMMARY</td><td>INITPAINT</td><td>33828</td><td>1.3342</td><td>false</td><td>null</td><td>2025-09-25T20:22:42.749Z</td></tr><tr><td>AB020406 BGN Curncy</td><td>SUMMARY</td><td>INITPAINT</td><td>33828</td><td>null</td><td>false</td><td>null</td><td>2025-09-25T20:22:42.749Z</td></tr><tr><td>AB030510 BGN Curncy</td><td>SUMMARY</td><td>INITPAINT</td><td>33828</td><td>null</td><td>false</td><td>null</td><td>2025-09-25T20:22:42.749Z</td></tr><tr><td>AB050710 BGN Curncy</td><td>SUMMARY</td><td>INITPAINT</td><td>33828</td><td>null</td><td>false</td><td>null</td><td>2025-09-25T20:22:42.749Z</td></tr><tr><td>5RIZFU2 BGN Curncy</td><td>SUMMARY</td><td>INITPAINT</td><td>33828</td><td>null</td><td>false</td><td>null</td><td>2025-09-25T20:22:42.749Z</td></tr><tr><td>EUR BGN Curncy</td><td>SUMMARY</td><td>INITPAINT</td><td>33828</td><td>1.1665</td><td>false</td><td>null</td><td>2025-09-25T20:22:42.749Z</td></tr><tr><td>AB021030 BGN Curncy</td><td>SUMMARY</td><td>INITPAINT</td><td>33828</td><td>null</td><td>false</td><td>null</td><td>2025-09-25T20:22:42.749Z</td></tr><tr><td>BGN Curncy</td><td>SUMMARY</td><td>INITPAINT</td><td>33828</td><td>1.677</td><td>false</td><td>null</td><td>2025-09-25T20:22:42.749Z</td></tr><tr><td>AB020310 BGN Curncy</td><td>SUMMARY</td><td>INITPAINT</td><td>33828</td><td>null</td><td>false</td><td>null</td><td>2025-09-25T20:22:42.749Z</td></tr><tr><td>JPYEUR BGN Curncy</td><td>SUMMARY</td><td>INITPAINT</td><td>33828</td><td>0.57244</td><td>false</td><td>null</td><td>2025-09-25T20:22:42.749Z</td></tr><tr><td>GBP BGN Curncy</td><td>TRADE</td><td>NEW</td><td>33828</td><td>1.3342</td><td>false</td><td>2025-09-25T20:22:46.000Z</td><td>2025-09-25T20:22:42.749Z</td></tr><tr><td>EUR BGN Curncy</td><td>TRADE</td><td>NEW</td><td>33828</td><td>1.1665</td><td>false</td><td>2025-09-25T20:22:46.000Z</td><td>2025-09-25T20:22:42.749Z</td></tr><tr><td>EUR BGN Curncy</td><td>TRADE</td><td>NEW</td><td>33828</td><td>1.1665</td><td>false</td><td>2025-09-25T20:22:46.000Z</td><td>2025-09-25T20:22:42.749Z</td></tr><tr><td>GBP BGN Curncy</td><td>TRADE</td><td>NEW</td><td>33828</td><td>1.3342</td><td>false</td><td>2025-09-25T20:22:46.000Z</td><td>2025-09-25T20:22:42.749Z</td></tr><tr><td>GBP BGN Curncy</td><td>TRADE</td><td>NEW</td><td>33828</td><td>1.3342</td><td>false</td><td>2025-09-25T20:22:46.000Z</td><td>2025-09-25T20:22:42.749Z</td></tr><tr><td>GBP BGN Curncy</td><td>TRADE</td><td>NEW</td><td>33828</td><td>1.3342</td><td>false</td><td>2025-09-25T20:22:46.000Z</td><td>2025-09-25T20:22:42.749Z</td></tr><tr><td>EUR BGN Curncy</td><td>TRADE</td><td>NEW</td><td>33828</td><td>1.1665</td><td>false</td><td>2025-09-25T20:22:46.000Z</td><td>2025-09-25T20:22:42.749Z</td></tr><tr><td>EUR BGN Curncy</td><td>TRADE</td><td>NEW</td><td>33828</td><td>1.1665</td><td>false</td><td>2025-09-25T20:22:46.000Z</td><td>2025-09-25T20:22:42.749Z</td></tr><tr><td>EUR BGN Curncy</td><td>TRADE</td><td>NEW</td><td>33828</td><td>1.1665</td><td>false</td><td>2025-09-25T20:22:46.000Z</td><td>2025-09-25T20:22:42.749Z</td></tr><tr><td>EUR BGN Curncy</td><td>TRADE</td><td>NEW</td><td>33828</td><td>1.1665</td><td>false</td><td>2025-09-25T20:22:46.000Z</td><td>2025-09-25T20:22:42.749Z</td></tr></tbody></table></div>"
      ]
     },
     "metadata": {
      "application/vnd.databricks.v1+output": {
       "addedWidgets": {},
       "aggData": [],
       "aggError": "",
       "aggOverflow": false,
       "aggSchema": [],
       "aggSeriesLimitReached": false,
       "aggType": "",
       "arguments": {},
       "columnCustomDisplayInfos": {},
       "data": [
        [
         "GBP BGN Curncy",
         "SUMMARY",
         "INITPAINT",
         33828,
         1.3342,
         false,
         null,
         "2025-09-25T20:22:42.749Z"
        ],
        [
         "AB020406 BGN Curncy",
         "SUMMARY",
         "INITPAINT",
         33828,
         null,
         false,
         null,
         "2025-09-25T20:22:42.749Z"
        ],
        [
         "AB030510 BGN Curncy",
         "SUMMARY",
         "INITPAINT",
         33828,
         null,
         false,
         null,
         "2025-09-25T20:22:42.749Z"
        ],
        [
         "AB050710 BGN Curncy",
         "SUMMARY",
         "INITPAINT",
         33828,
         null,
         false,
         null,
         "2025-09-25T20:22:42.749Z"
        ],
        [
         "5RIZFU2 BGN Curncy",
         "SUMMARY",
         "INITPAINT",
         33828,
         null,
         false,
         null,
         "2025-09-25T20:22:42.749Z"
        ],
        [
         "EUR BGN Curncy",
         "SUMMARY",
         "INITPAINT",
         33828,
         1.1665,
         false,
         null,
         "2025-09-25T20:22:42.749Z"
        ],
        [
         "AB021030 BGN Curncy",
         "SUMMARY",
         "INITPAINT",
         33828,
         null,
         false,
         null,
         "2025-09-25T20:22:42.749Z"
        ],
        [
         "BGN Curncy",
         "SUMMARY",
         "INITPAINT",
         33828,
         1.677,
         false,
         null,
         "2025-09-25T20:22:42.749Z"
        ],
        [
         "AB020310 BGN Curncy",
         "SUMMARY",
         "INITPAINT",
         33828,
         null,
         false,
         null,
         "2025-09-25T20:22:42.749Z"
        ],
        [
         "JPYEUR BGN Curncy",
         "SUMMARY",
         "INITPAINT",
         33828,
         0.57244,
         false,
         null,
         "2025-09-25T20:22:42.749Z"
        ],
        [
         "GBP BGN Curncy",
         "TRADE",
         "NEW",
         33828,
         1.3342,
         false,
         "2025-09-25T20:22:46.000Z",
         "2025-09-25T20:22:42.749Z"
        ],
        [
         "EUR BGN Curncy",
         "TRADE",
         "NEW",
         33828,
         1.1665,
         false,
         "2025-09-25T20:22:46.000Z",
         "2025-09-25T20:22:42.749Z"
        ],
        [
         "EUR BGN Curncy",
         "TRADE",
         "NEW",
         33828,
         1.1665,
         false,
         "2025-09-25T20:22:46.000Z",
         "2025-09-25T20:22:42.749Z"
        ],
        [
         "GBP BGN Curncy",
         "TRADE",
         "NEW",
         33828,
         1.3342,
         false,
         "2025-09-25T20:22:46.000Z",
         "2025-09-25T20:22:42.749Z"
        ],
        [
         "GBP BGN Curncy",
         "TRADE",
         "NEW",
         33828,
         1.3342,
         false,
         "2025-09-25T20:22:46.000Z",
         "2025-09-25T20:22:42.749Z"
        ],
        [
         "GBP BGN Curncy",
         "TRADE",
         "NEW",
         33828,
         1.3342,
         false,
         "2025-09-25T20:22:46.000Z",
         "2025-09-25T20:22:42.749Z"
        ],
        [
         "EUR BGN Curncy",
         "TRADE",
         "NEW",
         33828,
         1.1665,
         false,
         "2025-09-25T20:22:46.000Z",
         "2025-09-25T20:22:42.749Z"
        ],
        [
         "EUR BGN Curncy",
         "TRADE",
         "NEW",
         33828,
         1.1665,
         false,
         "2025-09-25T20:22:46.000Z",
         "2025-09-25T20:22:42.749Z"
        ],
        [
         "EUR BGN Curncy",
         "TRADE",
         "NEW",
         33828,
         1.1665,
         false,
         "2025-09-25T20:22:46.000Z",
         "2025-09-25T20:22:42.749Z"
        ],
        [
         "EUR BGN Curncy",
         "TRADE",
         "NEW",
         33828,
         1.1665,
         false,
         "2025-09-25T20:22:46.000Z",
         "2025-09-25T20:22:42.749Z"
        ]
       ],
       "datasetInfos": [],
       "dbfsResultPath": null,
       "isJsonSchema": true,
       "metadata": {},
       "overflow": false,
       "plotOptions": {
        "customPlotOptions": {},
        "displayType": "table",
        "pivotAggregation": null,
        "pivotColumns": null,
        "xColumns": null,
        "yColumns": null
       },
       "removedWidgets": [],
       "schema": [
        {
         "metadata": "{}",
         "name": "SECURITY",
         "type": "\"string\"",
         "typeName": "STRING",
         "typeText": "STRING"
        },
        {
         "metadata": "{}",
         "name": "MKTDATA_EVENT_TYPE",
         "type": "\"string\"",
         "typeName": "STRING",
         "typeText": "STRING"
        },
        {
         "metadata": "{}",
         "name": "MKTDATA_EVENT_SUBTYPE",
         "type": "\"string\"",
         "typeName": "STRING",
         "typeText": "STRING"
        },
        {
         "metadata": "{}",
         "name": "EID",
         "type": "\"long\"",
         "typeName": "LONG",
         "typeText": "BIGINT"
        },
        {
         "metadata": "{}",
         "name": "LAST_PRICE",
         "type": "\"double\"",
         "typeName": "DOUBLE",
         "typeText": "DOUBLE"
        },
        {
         "metadata": "{}",
         "name": "IS_DELAYED_STREAM",
         "type": "\"boolean\"",
         "typeName": "BOOLEAN",
         "typeText": "BOOLEAN"
        },
        {
         "metadata": "{}",
         "name": "TRADE_UPDATE_STAMP_RT",
         "type": "\"timestamp\"",
         "typeName": "TIMESTAMP",
         "typeText": "TIMESTAMP"
        },
        {
         "metadata": "{}",
         "name": "processed_timestamp",
         "type": "\"timestamp\"",
         "typeName": "TIMESTAMP",
         "typeText": "TIMESTAMP"
        }
       ],
       "type": "table"
      }
     },
     "output_type": "display_data"
    }
   ],
   "source": [
    "SELECT * FROM market_data.providers.bloomberg_bpipe\n",
    "WHERE market_data.providers.is_bpipe_eid_member(EID)\n",
    "LIMIT 20;"
   ]
  },
  {
   "cell_type": "markdown",
   "metadata": {
    "application/vnd.databricks.v1+cell": {
     "cellMetadata": {},
     "inputWidgets": {},
     "nuid": "100941d4-f28a-4b49-a8b8-8d362d6a6eb9",
     "showTitle": false,
     "tableResultSettingsMap": {},
     "title": ""
    }
   },
   "source": [
    "## Enforcing entitlement policies\n",
    "We can enforce that function by creating a row filter in our registered bpipe table"
   ]
  },
  {
   "cell_type": "markdown",
   "metadata": {
    "application/vnd.databricks.v1+cell": {
     "cellMetadata": {},
     "inputWidgets": {},
     "nuid": "63adac95-1727-4606-8b73-d909283ac34f",
     "showTitle": false,
     "tableResultSettingsMap": {},
     "title": ""
    }
   },
   "source": [
    "<img src='bpipe_row_filter_enabled.png'>"
   ]
  },
  {
   "cell_type": "markdown",
   "metadata": {
    "application/vnd.databricks.v1+cell": {
     "cellMetadata": {},
     "inputWidgets": {},
     "nuid": "7f7c17b9-4aea-404b-a0d4-6e8d144a92e7",
     "showTitle": false,
     "tableResultSettingsMap": {},
     "title": ""
    }
   },
   "source": [
    "## Testing our entitlement policy\n",
    "And voila, with our entitlement policy being enforced, we can restrict access to specific records based on EID entitlements. This policy table is always one as available on Lakebase, and guarantees audit & traceability given its SCD type 2 schema"
   ]
  },
  {
   "cell_type": "code",
   "execution_count": 0,
   "metadata": {
    "application/vnd.databricks.v1+cell": {
     "cellMetadata": {
      "byteLimit": 2048000,
      "rowLimit": 10000
     },
     "inputWidgets": {},
     "nuid": "ae58fa03-e1bd-41b4-9d8b-6903650482de",
     "showTitle": false,
     "tableResultSettingsMap": {},
     "title": ""
    }
   },
   "outputs": [
    {
     "output_type": "display_data",
     "data": {
      "text/html": [
       "<style scoped>\n",
       "  .table-result-container {\n",
       "    max-height: 300px;\n",
       "    overflow: auto;\n",
       "  }\n",
       "  table, th, td {\n",
       "    border: 1px solid black;\n",
       "    border-collapse: collapse;\n",
       "  }\n",
       "  th, td {\n",
       "    padding: 5px;\n",
       "  }\n",
       "  th {\n",
       "    text-align: left;\n",
       "  }\n",
       "</style><div class='table-result-container'><table class='table-result'><thead style='background-color: white'><tr><th>SECURITY</th><th>MKTDATA_EVENT_TYPE</th><th>MKTDATA_EVENT_SUBTYPE</th><th>EID</th><th>LAST_PRICE</th><th>IS_DELAYED_STREAM</th><th>TRADE_UPDATE_STAMP_RT</th><th>processed_timestamp</th></tr></thead><tbody><tr><td>GBP BGN Curncy</td><td>SUMMARY</td><td>INITPAINT</td><td>33828</td><td>1.3342</td><td>false</td><td>null</td><td>2025-09-25T20:22:42.749Z</td></tr><tr><td>AB020406 BGN Curncy</td><td>SUMMARY</td><td>INITPAINT</td><td>33828</td><td>null</td><td>false</td><td>null</td><td>2025-09-25T20:22:42.749Z</td></tr><tr><td>AB030510 BGN Curncy</td><td>SUMMARY</td><td>INITPAINT</td><td>33828</td><td>null</td><td>false</td><td>null</td><td>2025-09-25T20:22:42.749Z</td></tr><tr><td>AB050710 BGN Curncy</td><td>SUMMARY</td><td>INITPAINT</td><td>33828</td><td>null</td><td>false</td><td>null</td><td>2025-09-25T20:22:42.749Z</td></tr><tr><td>5RIZFU2 BGN Curncy</td><td>SUMMARY</td><td>INITPAINT</td><td>33828</td><td>null</td><td>false</td><td>null</td><td>2025-09-25T20:22:42.749Z</td></tr><tr><td>EUR BGN Curncy</td><td>SUMMARY</td><td>INITPAINT</td><td>33828</td><td>1.1665</td><td>false</td><td>null</td><td>2025-09-25T20:22:42.749Z</td></tr><tr><td>AB021030 BGN Curncy</td><td>SUMMARY</td><td>INITPAINT</td><td>33828</td><td>null</td><td>false</td><td>null</td><td>2025-09-25T20:22:42.749Z</td></tr><tr><td>BGN Curncy</td><td>SUMMARY</td><td>INITPAINT</td><td>33828</td><td>1.677</td><td>false</td><td>null</td><td>2025-09-25T20:22:42.749Z</td></tr><tr><td>AB020310 BGN Curncy</td><td>SUMMARY</td><td>INITPAINT</td><td>33828</td><td>null</td><td>false</td><td>null</td><td>2025-09-25T20:22:42.749Z</td></tr><tr><td>JPYEUR BGN Curncy</td><td>SUMMARY</td><td>INITPAINT</td><td>33828</td><td>0.57244</td><td>false</td><td>null</td><td>2025-09-25T20:22:42.749Z</td></tr><tr><td>GBP BGN Curncy</td><td>TRADE</td><td>NEW</td><td>33828</td><td>1.3342</td><td>false</td><td>2025-09-25T20:22:46.000Z</td><td>2025-09-25T20:22:42.749Z</td></tr><tr><td>EUR BGN Curncy</td><td>TRADE</td><td>NEW</td><td>33828</td><td>1.1665</td><td>false</td><td>2025-09-25T20:22:46.000Z</td><td>2025-09-25T20:22:42.749Z</td></tr><tr><td>EUR BGN Curncy</td><td>TRADE</td><td>NEW</td><td>33828</td><td>1.1665</td><td>false</td><td>2025-09-25T20:22:46.000Z</td><td>2025-09-25T20:22:42.749Z</td></tr><tr><td>GBP BGN Curncy</td><td>TRADE</td><td>NEW</td><td>33828</td><td>1.3342</td><td>false</td><td>2025-09-25T20:22:46.000Z</td><td>2025-09-25T20:22:42.749Z</td></tr><tr><td>GBP BGN Curncy</td><td>TRADE</td><td>NEW</td><td>33828</td><td>1.3342</td><td>false</td><td>2025-09-25T20:22:46.000Z</td><td>2025-09-25T20:22:42.749Z</td></tr><tr><td>GBP BGN Curncy</td><td>TRADE</td><td>NEW</td><td>33828</td><td>1.3342</td><td>false</td><td>2025-09-25T20:22:46.000Z</td><td>2025-09-25T20:22:42.749Z</td></tr><tr><td>EUR BGN Curncy</td><td>TRADE</td><td>NEW</td><td>33828</td><td>1.1665</td><td>false</td><td>2025-09-25T20:22:46.000Z</td><td>2025-09-25T20:22:42.749Z</td></tr><tr><td>EUR BGN Curncy</td><td>TRADE</td><td>NEW</td><td>33828</td><td>1.1665</td><td>false</td><td>2025-09-25T20:22:46.000Z</td><td>2025-09-25T20:22:42.749Z</td></tr><tr><td>EUR BGN Curncy</td><td>TRADE</td><td>NEW</td><td>33828</td><td>1.1665</td><td>false</td><td>2025-09-25T20:22:46.000Z</td><td>2025-09-25T20:22:42.749Z</td></tr><tr><td>EUR BGN Curncy</td><td>TRADE</td><td>NEW</td><td>33828</td><td>1.1665</td><td>false</td><td>2025-09-25T20:22:46.000Z</td><td>2025-09-25T20:22:42.749Z</td></tr></tbody></table></div>"
      ]
     },
     "metadata": {
      "application/vnd.databricks.v1+output": {
       "addedWidgets": {},
       "aggData": [],
       "aggError": "",
       "aggOverflow": false,
       "aggSchema": [],
       "aggSeriesLimitReached": false,
       "aggType": "",
       "arguments": {},
       "columnCustomDisplayInfos": {},
       "data": [
        [
         "GBP BGN Curncy",
         "SUMMARY",
         "INITPAINT",
         33828,
         1.3342,
         false,
         null,
         "2025-09-25T20:22:42.749Z"
        ],
        [
         "AB020406 BGN Curncy",
         "SUMMARY",
         "INITPAINT",
         33828,
         null,
         false,
         null,
         "2025-09-25T20:22:42.749Z"
        ],
        [
         "AB030510 BGN Curncy",
         "SUMMARY",
         "INITPAINT",
         33828,
         null,
         false,
         null,
         "2025-09-25T20:22:42.749Z"
        ],
        [
         "AB050710 BGN Curncy",
         "SUMMARY",
         "INITPAINT",
         33828,
         null,
         false,
         null,
         "2025-09-25T20:22:42.749Z"
        ],
        [
         "5RIZFU2 BGN Curncy",
         "SUMMARY",
         "INITPAINT",
         33828,
         null,
         false,
         null,
         "2025-09-25T20:22:42.749Z"
        ],
        [
         "EUR BGN Curncy",
         "SUMMARY",
         "INITPAINT",
         33828,
         1.1665,
         false,
         null,
         "2025-09-25T20:22:42.749Z"
        ],
        [
         "AB021030 BGN Curncy",
         "SUMMARY",
         "INITPAINT",
         33828,
         null,
         false,
         null,
         "2025-09-25T20:22:42.749Z"
        ],
        [
         "BGN Curncy",
         "SUMMARY",
         "INITPAINT",
         33828,
         1.677,
         false,
         null,
         "2025-09-25T20:22:42.749Z"
        ],
        [
         "AB020310 BGN Curncy",
         "SUMMARY",
         "INITPAINT",
         33828,
         null,
         false,
         null,
         "2025-09-25T20:22:42.749Z"
        ],
        [
         "JPYEUR BGN Curncy",
         "SUMMARY",
         "INITPAINT",
         33828,
         0.57244,
         false,
         null,
         "2025-09-25T20:22:42.749Z"
        ],
        [
         "GBP BGN Curncy",
         "TRADE",
         "NEW",
         33828,
         1.3342,
         false,
         "2025-09-25T20:22:46.000Z",
         "2025-09-25T20:22:42.749Z"
        ],
        [
         "EUR BGN Curncy",
         "TRADE",
         "NEW",
         33828,
         1.1665,
         false,
         "2025-09-25T20:22:46.000Z",
         "2025-09-25T20:22:42.749Z"
        ],
        [
         "EUR BGN Curncy",
         "TRADE",
         "NEW",
         33828,
         1.1665,
         false,
         "2025-09-25T20:22:46.000Z",
         "2025-09-25T20:22:42.749Z"
        ],
        [
         "GBP BGN Curncy",
         "TRADE",
         "NEW",
         33828,
         1.3342,
         false,
         "2025-09-25T20:22:46.000Z",
         "2025-09-25T20:22:42.749Z"
        ],
        [
         "GBP BGN Curncy",
         "TRADE",
         "NEW",
         33828,
         1.3342,
         false,
         "2025-09-25T20:22:46.000Z",
         "2025-09-25T20:22:42.749Z"
        ],
        [
         "GBP BGN Curncy",
         "TRADE",
         "NEW",
         33828,
         1.3342,
         false,
         "2025-09-25T20:22:46.000Z",
         "2025-09-25T20:22:42.749Z"
        ],
        [
         "EUR BGN Curncy",
         "TRADE",
         "NEW",
         33828,
         1.1665,
         false,
         "2025-09-25T20:22:46.000Z",
         "2025-09-25T20:22:42.749Z"
        ],
        [
         "EUR BGN Curncy",
         "TRADE",
         "NEW",
         33828,
         1.1665,
         false,
         "2025-09-25T20:22:46.000Z",
         "2025-09-25T20:22:42.749Z"
        ],
        [
         "EUR BGN Curncy",
         "TRADE",
         "NEW",
         33828,
         1.1665,
         false,
         "2025-09-25T20:22:46.000Z",
         "2025-09-25T20:22:42.749Z"
        ],
        [
         "EUR BGN Curncy",
         "TRADE",
         "NEW",
         33828,
         1.1665,
         false,
         "2025-09-25T20:22:46.000Z",
         "2025-09-25T20:22:42.749Z"
        ]
       ],
       "datasetInfos": [],
       "dbfsResultPath": null,
       "isJsonSchema": true,
       "metadata": {},
       "overflow": false,
       "plotOptions": {
        "customPlotOptions": {},
        "displayType": "table",
        "pivotAggregation": null,
        "pivotColumns": null,
        "xColumns": null,
        "yColumns": null
       },
       "removedWidgets": [],
       "schema": [
        {
         "metadata": "{}",
         "name": "SECURITY",
         "type": "\"string\"",
         "typeName": "STRING",
         "typeText": "STRING"
        },
        {
         "metadata": "{}",
         "name": "MKTDATA_EVENT_TYPE",
         "type": "\"string\"",
         "typeName": "STRING",
         "typeText": "STRING"
        },
        {
         "metadata": "{}",
         "name": "MKTDATA_EVENT_SUBTYPE",
         "type": "\"string\"",
         "typeName": "STRING",
         "typeText": "STRING"
        },
        {
         "metadata": "{}",
         "name": "EID",
         "type": "\"long\"",
         "typeName": "LONG",
         "typeText": "BIGINT"
        },
        {
         "metadata": "{}",
         "name": "LAST_PRICE",
         "type": "\"double\"",
         "typeName": "DOUBLE",
         "typeText": "DOUBLE"
        },
        {
         "metadata": "{}",
         "name": "IS_DELAYED_STREAM",
         "type": "\"boolean\"",
         "typeName": "BOOLEAN",
         "typeText": "BOOLEAN"
        },
        {
         "metadata": "{}",
         "name": "TRADE_UPDATE_STAMP_RT",
         "type": "\"timestamp\"",
         "typeName": "TIMESTAMP",
         "typeText": "TIMESTAMP"
        },
        {
         "metadata": "{}",
         "name": "processed_timestamp",
         "type": "\"timestamp\"",
         "typeName": "TIMESTAMP",
         "typeText": "TIMESTAMP"
        }
       ],
       "type": "table"
      }
     },
     "output_type": "display_data"
    }
   ],
   "source": [
    "SELECT * FROM market_data.providers.bloomberg_bpipe\n",
    "LIMIT 20;"
   ]
  },
  {
   "cell_type": "code",
   "execution_count": 0,
   "metadata": {
    "application/vnd.databricks.v1+cell": {
     "cellMetadata": {},
     "inputWidgets": {},
     "nuid": "74ed455c-59de-4544-a451-b5b7bdd3ec89",
     "showTitle": false,
     "tableResultSettingsMap": {},
     "title": ""
    }
   },
   "outputs": [],
   "source": []
  }
 ],
 "metadata": {
  "application/vnd.databricks.v1+notebook": {
   "computePreferences": null,
   "dashboards": [],
   "environmentMetadata": {
    "base_environment": "",
    "environment_version": "3"
   },
   "inputWidgetPreferences": null,
   "language": "sql",
   "notebookMetadata": {
    "pythonIndentUnit": 4
   },
   "notebookName": "02_bpipe_permissioning",
   "widgets": {}
  },
  "language_info": {
   "name": "sql"
  }
 },
 "nbformat": 4,
 "nbformat_minor": 0
}