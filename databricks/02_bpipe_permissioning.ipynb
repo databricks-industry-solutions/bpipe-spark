{
 "cells": [
  {
   "cell_type": "markdown",
   "metadata": {
    "application/vnd.databricks.v1+cell": {
     "cellMetadata": {},
     "inputWidgets": {},
     "nuid": "84c9a9f3-3c57-455a-ba83-8224e855bbd6",
     "showTitle": false,
     "tableResultSettingsMap": {},
     "title": ""
    }
   },
   "source": [
    "# BPipe permissioning\n",
    "\n",
    "Every market data feed is subject to strict licensing rules set by exchanges, which define who can access what information and how it can be used. Without fine-grained entitlements, providers risk over-distribution of data, leading to compliance violations, financial penalties, and even loss of licensing rights. By enforcing entitlements, Bloomberg can guarantee that clients receive the right data, exchanges are properly compensated, and the entire ecosystem maintains trust and regulatory alignment."
   ]
  },
  {
   "cell_type": "markdown",
   "metadata": {
    "application/vnd.databricks.v1+cell": {
     "cellMetadata": {},
     "inputWidgets": {},
     "nuid": "e36d8a2c-3e15-4e13-81b7-845783900a99",
     "showTitle": false,
     "tableResultSettingsMap": {},
     "title": ""
    }
   },
   "source": [
    "## Reading our BPipe table\n",
    "Without any permissioning enforced, we read all bpipe table as-is regardless on user permissioning.\n",
    "This is just for testing purpose"
   ]
  },
  {
   "cell_type": "code",
   "execution_count": 0,
   "metadata": {
    "application/vnd.databricks.v1+cell": {
     "cellMetadata": {
      "byteLimit": 2048000,
      "rowLimit": 10000
     },
     "inputWidgets": {},
     "nuid": "7405d46e-5530-4412-a87f-f0898435ea51",
     "showTitle": false,
     "tableResultSettingsMap": {
      "0": {
       "dataGridStateBlob": "{\"version\":1,\"tableState\":{\"columnPinning\":{\"left\":[\"#row_number#\"],\"right\":[]},\"columnSizing\":{},\"columnVisibility\":{}},\"settings\":{\"columns\":{}},\"syncTimestamp\":1758918004110}",
       "filterBlob": null,
       "queryPlanFiltersBlob": null,
       "tableResultIndex": 0
      }
     },
     "title": ""
    }
   },
   "outputs": [
    {
     "output_type": "display_data",
     "data": {
      "text/html": [
       "<style scoped>\n",
       "  .table-result-container {\n",
       "    max-height: 300px;\n",
       "    overflow: auto;\n",
       "  }\n",
       "  table, th, td {\n",
       "    border: 1px solid black;\n",
       "    border-collapse: collapse;\n",
       "  }\n",
       "  th, td {\n",
       "    padding: 5px;\n",
       "  }\n",
       "  th {\n",
       "    text-align: left;\n",
       "  }\n",
       "</style><div class='table-result-container'><table class='table-result'><thead style='background-color: white'><tr><th>SECURITY</th><th>NAME_RT</th><th>MKTDATA_EVENT_TYPE</th><th>MKTDATA_EVENT_SUBTYPE</th><th>EID</th><th>BID</th><th>ASK</th><th>LAST_PRICE</th><th>VOLUME</th><th>BID_SIZE</th><th>ASK_SIZE</th><th>SIZE_LAST_TRADE</th><th>IS_DELAYED_STREAM</th><th>TRADE_UPDATE_STAMP_RT</th><th>processed_timestamp</th></tr></thead><tbody><tr><td>SBBL1205 BGN Curncy</td><td>SEK SWPT %VOL OIS-350 12</td><td>REFERENCE</td><td>INITPAINT</td><td>35009</td><td>null</td><td>null</td><td>null</td><td>null</td><td>null</td><td>null</td><td>null</td><td>false</td><td>null</td><td>2025-09-26T20:20:24.941Z</td></tr><tr><td>SBBL1205 BGN Curncy</td><td>null</td><td>SUMMARY</td><td>INITPAINT</td><td>33828</td><td>null</td><td>null</td><td>null</td><td>null</td><td>null</td><td>null</td><td>null</td><td>false</td><td>null</td><td>2025-09-26T20:20:24.941Z</td></tr><tr><td>CNYJ0120 BGN Curncy</td><td>CNY OFF SWPT PREM 100 1Y</td><td>REFERENCE</td><td>INITPAINT</td><td>35009</td><td>null</td><td>null</td><td>null</td><td>null</td><td>null</td><td>null</td><td>null</td><td>false</td><td>null</td><td>2025-09-26T20:20:24.941Z</td></tr><tr><td>CNYJ0120 BGN Curncy</td><td>null</td><td>SUMMARY</td><td>INITPAINT</td><td>33828</td><td>null</td><td>null</td><td>null</td><td>null</td><td>null</td><td>null</td><td>null</td><td>false</td><td>null</td><td>2025-09-26T20:20:24.941Z</td></tr><tr><td>UDTL1003 BGN Curncy</td><td>AED SWPT SPRD NVOL 250 1</td><td>REFERENCE</td><td>INITPAINT</td><td>35009</td><td>null</td><td>null</td><td>null</td><td>null</td><td>null</td><td>null</td><td>null</td><td>false</td><td>null</td><td>2025-09-26T20:20:24.941Z</td></tr><tr><td>UDTL1003 BGN Curncy</td><td>null</td><td>SUMMARY</td><td>INITPAINT</td><td>33828</td><td>null</td><td>null</td><td>null</td><td>null</td><td>null</td><td>null</td><td>null</td><td>false</td><td>null</td><td>2025-09-26T20:20:24.941Z</td></tr><tr><td>SAPQ1202 BGN Curncy</td><td>ZAR SWPT PREM 75 12Y2Y</td><td>REFERENCE</td><td>INITPAINT</td><td>35009</td><td>null</td><td>null</td><td>null</td><td>null</td><td>null</td><td>null</td><td>null</td><td>false</td><td>null</td><td>2025-09-26T20:20:24.941Z</td></tr><tr><td>SAPQ1202 BGN Curncy</td><td>null</td><td>SUMMARY</td><td>INITPAINT</td><td>33828</td><td>null</td><td>null</td><td>null</td><td>null</td><td>null</td><td>null</td><td>null</td><td>false</td><td>null</td><td>2025-09-26T20:20:24.941Z</td></tr><tr><td>USPUAZ30 BGN Curncy</td><td>US SP PR SOFR 350 30Y30Y</td><td>REFERENCE</td><td>INITPAINT</td><td>35009</td><td>null</td><td>null</td><td>null</td><td>null</td><td>null</td><td>null</td><td>null</td><td>false</td><td>null</td><td>2025-09-26T20:20:24.941Z</td></tr><tr><td>USPUAZ30 BGN Curncy</td><td>null</td><td>SUMMARY</td><td>INITPAINT</td><td>33828</td><td>null</td><td>null</td><td>null</td><td>null</td><td>null</td><td>null</td><td>null</td><td>false</td><td>null</td><td>2025-09-26T20:20:24.941Z</td></tr><tr><td>ISFS121F BGN Curncy</td><td>ILS FORWARD SWAP 12YX18M</td><td>REFERENCE</td><td>INITPAINT</td><td>35009</td><td>null</td><td>null</td><td>null</td><td>null</td><td>null</td><td>null</td><td>null</td><td>false</td><td>null</td><td>2025-09-26T20:20:24.941Z</td></tr><tr><td>ISFS121F BGN Curncy</td><td>null</td><td>SUMMARY</td><td>INITPAINT</td><td>33828</td><td>null</td><td>null</td><td>null</td><td>null</td><td>null</td><td>null</td><td>null</td><td>false</td><td>null</td><td>2025-09-26T20:20:24.941Z</td></tr><tr><td>GBPGHFEA BGN Curncy</td><td>GBP SWPT %VOL 50 20Y15Y</td><td>REFERENCE</td><td>INITPAINT</td><td>35009</td><td>null</td><td>null</td><td>null</td><td>null</td><td>null</td><td>null</td><td>null</td><td>false</td><td>null</td><td>2025-09-26T20:20:24.941Z</td></tr><tr><td>GBPGHFEA BGN Curncy</td><td>null</td><td>SUMMARY</td><td>INITPAINT</td><td>33828</td><td>null</td><td>null</td><td>null</td><td>null</td><td>null</td><td>null</td><td>null</td><td>false</td><td>null</td><td>2025-09-26T20:20:24.941Z</td></tr><tr><td>USNBFSAO BGN Curncy</td><td>USD Cap 4Y13Y</td><td>REFERENCE</td><td>INITPAINT</td><td>35009</td><td>null</td><td>null</td><td>null</td><td>null</td><td>null</td><td>null</td><td>null</td><td>false</td><td>null</td><td>2025-09-26T20:20:24.941Z</td></tr><tr><td>USNBFSAO BGN Curncy</td><td>null</td><td>SUMMARY</td><td>INITPAINT</td><td>33828</td><td>null</td><td>null</td><td>null</td><td>null</td><td>null</td><td>null</td><td>null</td><td>false</td><td>null</td><td>2025-09-26T20:20:24.941Z</td></tr><tr><td>BPNI35 BGN Curncy</td><td>GBP SWPT NVOL OIS-150 3Y</td><td>REFERENCE</td><td>INITPAINT</td><td>35009</td><td>null</td><td>null</td><td>null</td><td>null</td><td>null</td><td>null</td><td>null</td><td>false</td><td>null</td><td>2025-09-26T20:20:24.941Z</td></tr><tr><td>BPNI35 BGN Curncy</td><td>null</td><td>SUMMARY</td><td>INITPAINT</td><td>33828</td><td>null</td><td>null</td><td>null</td><td>null</td><td>null</td><td>null</td><td>null</td><td>false</td><td>null</td><td>2025-09-26T20:20:24.941Z</td></tr><tr><td>CLSE0515 BGN Curncy</td><td>CAD SPR %V-100 COR 5Y15Y</td><td>REFERENCE</td><td>INITPAINT</td><td>35009</td><td>null</td><td>null</td><td>null</td><td>null</td><td>null</td><td>null</td><td>null</td><td>false</td><td>null</td><td>2025-09-26T20:20:24.941Z</td></tr><tr><td>CLSE0515 BGN Curncy</td><td>null</td><td>SUMMARY</td><td>INITPAINT</td><td>33828</td><td>null</td><td>null</td><td>null</td><td>null</td><td>null</td><td>null</td><td>null</td><td>false</td><td>null</td><td>2025-09-26T20:20:24.941Z</td></tr></tbody></table></div>"
      ]
     },
     "metadata": {
      "application/vnd.databricks.v1+output": {
       "addedWidgets": {},
       "aggData": [],
       "aggError": "",
       "aggOverflow": false,
       "aggSchema": [],
       "aggSeriesLimitReached": false,
       "aggType": "",
       "arguments": {},
       "columnCustomDisplayInfos": {},
       "data": [
        [
         "SBBL1205 BGN Curncy",
         "SEK SWPT %VOL OIS-350 12",
         "REFERENCE",
         "INITPAINT",
         35009,
         null,
         null,
         null,
         null,
         null,
         null,
         null,
         false,
         null,
         "2025-09-26T20:20:24.941Z"
        ],
        [
         "SBBL1205 BGN Curncy",
         null,
         "SUMMARY",
         "INITPAINT",
         33828,
         null,
         null,
         null,
         null,
         null,
         null,
         null,
         false,
         null,
         "2025-09-26T20:20:24.941Z"
        ],
        [
         "CNYJ0120 BGN Curncy",
         "CNY OFF SWPT PREM 100 1Y",
         "REFERENCE",
         "INITPAINT",
         35009,
         null,
         null,
         null,
         null,
         null,
         null,
         null,
         false,
         null,
         "2025-09-26T20:20:24.941Z"
        ],
        [
         "CNYJ0120 BGN Curncy",
         null,
         "SUMMARY",
         "INITPAINT",
         33828,
         null,
         null,
         null,
         null,
         null,
         null,
         null,
         false,
         null,
         "2025-09-26T20:20:24.941Z"
        ],
        [
         "UDTL1003 BGN Curncy",
         "AED SWPT SPRD NVOL 250 1",
         "REFERENCE",
         "INITPAINT",
         35009,
         null,
         null,
         null,
         null,
         null,
         null,
         null,
         false,
         null,
         "2025-09-26T20:20:24.941Z"
        ],
        [
         "UDTL1003 BGN Curncy",
         null,
         "SUMMARY",
         "INITPAINT",
         33828,
         null,
         null,
         null,
         null,
         null,
         null,
         null,
         false,
         null,
         "2025-09-26T20:20:24.941Z"
        ],
        [
         "SAPQ1202 BGN Curncy",
         "ZAR SWPT PREM 75 12Y2Y",
         "REFERENCE",
         "INITPAINT",
         35009,
         null,
         null,
         null,
         null,
         null,
         null,
         null,
         false,
         null,
         "2025-09-26T20:20:24.941Z"
        ],
        [
         "SAPQ1202 BGN Curncy",
         null,
         "SUMMARY",
         "INITPAINT",
         33828,
         null,
         null,
         null,
         null,
         null,
         null,
         null,
         false,
         null,
         "2025-09-26T20:20:24.941Z"
        ],
        [
         "USPUAZ30 BGN Curncy",
         "US SP PR SOFR 350 30Y30Y",
         "REFERENCE",
         "INITPAINT",
         35009,
         null,
         null,
         null,
         null,
         null,
         null,
         null,
         false,
         null,
         "2025-09-26T20:20:24.941Z"
        ],
        [
         "USPUAZ30 BGN Curncy",
         null,
         "SUMMARY",
         "INITPAINT",
         33828,
         null,
         null,
         null,
         null,
         null,
         null,
         null,
         false,
         null,
         "2025-09-26T20:20:24.941Z"
        ],
        [
         "ISFS121F BGN Curncy",
         "ILS FORWARD SWAP 12YX18M",
         "REFERENCE",
         "INITPAINT",
         35009,
         null,
         null,
         null,
         null,
         null,
         null,
         null,
         false,
         null,
         "2025-09-26T20:20:24.941Z"
        ],
        [
         "ISFS121F BGN Curncy",
         null,
         "SUMMARY",
         "INITPAINT",
         33828,
         null,
         null,
         null,
         null,
         null,
         null,
         null,
         false,
         null,
         "2025-09-26T20:20:24.941Z"
        ],
        [
         "GBPGHFEA BGN Curncy",
         "GBP SWPT %VOL 50 20Y15Y",
         "REFERENCE",
         "INITPAINT",
         35009,
         null,
         null,
         null,
         null,
         null,
         null,
         null,
         false,
         null,
         "2025-09-26T20:20:24.941Z"
        ],
        [
         "GBPGHFEA BGN Curncy",
         null,
         "SUMMARY",
         "INITPAINT",
         33828,
         null,
         null,
         null,
         null,
         null,
         null,
         null,
         false,
         null,
         "2025-09-26T20:20:24.941Z"
        ],
        [
         "USNBFSAO BGN Curncy",
         "USD Cap 4Y13Y",
         "REFERENCE",
         "INITPAINT",
         35009,
         null,
         null,
         null,
         null,
         null,
         null,
         null,
         false,
         null,
         "2025-09-26T20:20:24.941Z"
        ],
        [
         "USNBFSAO BGN Curncy",
         null,
         "SUMMARY",
         "INITPAINT",
         33828,
         null,
         null,
         null,
         null,
         null,
         null,
         null,
         false,
         null,
         "2025-09-26T20:20:24.941Z"
        ],
        [
         "BPNI35 BGN Curncy",
         "GBP SWPT NVOL OIS-150 3Y",
         "REFERENCE",
         "INITPAINT",
         35009,
         null,
         null,
         null,
         null,
         null,
         null,
         null,
         false,
         null,
         "2025-09-26T20:20:24.941Z"
        ],
        [
         "BPNI35 BGN Curncy",
         null,
         "SUMMARY",
         "INITPAINT",
         33828,
         null,
         null,
         null,
         null,
         null,
         null,
         null,
         false,
         null,
         "2025-09-26T20:20:24.941Z"
        ],
        [
         "CLSE0515 BGN Curncy",
         "CAD SPR %V-100 COR 5Y15Y",
         "REFERENCE",
         "INITPAINT",
         35009,
         null,
         null,
         null,
         null,
         null,
         null,
         null,
         false,
         null,
         "2025-09-26T20:20:24.941Z"
        ],
        [
         "CLSE0515 BGN Curncy",
         null,
         "SUMMARY",
         "INITPAINT",
         33828,
         null,
         null,
         null,
         null,
         null,
         null,
         null,
         false,
         null,
         "2025-09-26T20:20:24.941Z"
        ]
       ],
       "datasetInfos": [],
       "dbfsResultPath": null,
       "isJsonSchema": true,
       "metadata": {},
       "overflow": false,
       "plotOptions": {
        "customPlotOptions": {},
        "displayType": "table",
        "pivotAggregation": null,
        "pivotColumns": null,
        "xColumns": null,
        "yColumns": null
       },
       "removedWidgets": [],
       "schema": [
        {
         "metadata": "{}",
         "name": "SECURITY",
         "type": "\"string\"",
         "typeName": "STRING",
         "typeText": "STRING"
        },
        {
         "metadata": "{}",
         "name": "NAME_RT",
         "type": "\"string\"",
         "typeName": "STRING",
         "typeText": "STRING"
        },
        {
         "metadata": "{}",
         "name": "MKTDATA_EVENT_TYPE",
         "type": "\"string\"",
         "typeName": "STRING",
         "typeText": "STRING"
        },
        {
         "metadata": "{}",
         "name": "MKTDATA_EVENT_SUBTYPE",
         "type": "\"string\"",
         "typeName": "STRING",
         "typeText": "STRING"
        },
        {
         "metadata": "{}",
         "name": "EID",
         "type": "\"long\"",
         "typeName": "LONG",
         "typeText": "BIGINT"
        },
        {
         "metadata": "{}",
         "name": "BID",
         "type": "\"double\"",
         "typeName": "DOUBLE",
         "typeText": "DOUBLE"
        },
        {
         "metadata": "{}",
         "name": "ASK",
         "type": "\"double\"",
         "typeName": "DOUBLE",
         "typeText": "DOUBLE"
        },
        {
         "metadata": "{}",
         "name": "LAST_PRICE",
         "type": "\"double\"",
         "typeName": "DOUBLE",
         "typeText": "DOUBLE"
        },
        {
         "metadata": "{}",
         "name": "VOLUME",
         "type": "\"long\"",
         "typeName": "LONG",
         "typeText": "BIGINT"
        },
        {
         "metadata": "{}",
         "name": "BID_SIZE",
         "type": "\"integer\"",
         "typeName": "INT",
         "typeText": "INT"
        },
        {
         "metadata": "{}",
         "name": "ASK_SIZE",
         "type": "\"integer\"",
         "typeName": "INT",
         "typeText": "INT"
        },
        {
         "metadata": "{}",
         "name": "SIZE_LAST_TRADE",
         "type": "\"integer\"",
         "typeName": "INT",
         "typeText": "INT"
        },
        {
         "metadata": "{}",
         "name": "IS_DELAYED_STREAM",
         "type": "\"boolean\"",
         "typeName": "BOOLEAN",
         "typeText": "BOOLEAN"
        },
        {
         "metadata": "{}",
         "name": "TRADE_UPDATE_STAMP_RT",
         "type": "\"timestamp\"",
         "typeName": "TIMESTAMP",
         "typeText": "TIMESTAMP"
        },
        {
         "metadata": "{}",
         "name": "processed_timestamp",
         "type": "\"timestamp\"",
         "typeName": "TIMESTAMP",
         "typeText": "TIMESTAMP"
        }
       ],
       "type": "table"
      }
     },
     "output_type": "display_data"
    }
   ],
   "source": [
    "SELECT * FROM market_data.providers.bloomberg_bpipe\n",
    "LIMIT 20"
   ]
  },
  {
   "cell_type": "markdown",
   "metadata": {
    "application/vnd.databricks.v1+cell": {
     "cellMetadata": {},
     "inputWidgets": {},
     "nuid": "00fbb322-6d54-458b-b258-2e663a649a8e",
     "showTitle": false,
     "tableResultSettingsMap": {},
     "title": ""
    }
   },
   "source": [
    "## Reading our entitlements tables\n",
    "This follows a SCD type 2 model so that entitlements are revoked but not dropped and ensure full audit.\n",
    "Furthermore, can allow back processing / reply with as-of permissions (if required)"
   ]
  },
  {
   "cell_type": "code",
   "execution_count": 0,
   "metadata": {
    "application/vnd.databricks.v1+cell": {
     "cellMetadata": {
      "byteLimit": 2048000,
      "rowLimit": 10000
     },
     "inputWidgets": {},
     "nuid": "557358e8-967e-4f9b-8908-511baf88d57c",
     "showTitle": false,
     "tableResultSettingsMap": {},
     "title": ""
    }
   },
   "outputs": [
    {
     "output_type": "display_data",
     "data": {
      "text/html": [
       "<style scoped>\n",
       "  .table-result-container {\n",
       "    max-height: 300px;\n",
       "    overflow: auto;\n",
       "  }\n",
       "  table, th, td {\n",
       "    border: 1px solid black;\n",
       "    border-collapse: collapse;\n",
       "  }\n",
       "  th, td {\n",
       "    padding: 5px;\n",
       "  }\n",
       "  th {\n",
       "    text-align: left;\n",
       "  }\n",
       "</style><div class='table-result-container'><table class='table-result'><thead style='background-color: white'><tr><th>id</th><th>entitlement_id</th><th>principal_id</th><th>is_granted</th><th>version</th><th>effective_from</th><th>effective_to</th><th>is_current</th></tr></thead><tbody><tr><td>2</td><td>38736</td><td>antoine.amend+isv@databricks.com</td><td>true</td><td>1</td><td>2025-09-25T19:08:29.811Z</td><td>null</td><td>true</td></tr><tr><td>3</td><td>39489</td><td>antoine.amend+isv@databricks.com</td><td>true</td><td>1</td><td>2025-09-25T19:08:43.624Z</td><td>null</td><td>true</td></tr><tr><td>12</td><td>33828</td><td>antoine.amend+isv@databricks.com</td><td>true</td><td>1</td><td>2025-09-26T16:24:16.884Z</td><td>2025-09-26T20:23:39.218Z</td><td>false</td></tr><tr><td>13</td><td>33828</td><td>antoine.amend+isv@databricks.com</td><td>false</td><td>2</td><td>2025-09-26T20:23:39.218Z</td><td>null</td><td>true</td></tr></tbody></table></div>"
      ]
     },
     "metadata": {
      "application/vnd.databricks.v1+output": {
       "addedWidgets": {},
       "aggData": [],
       "aggError": "",
       "aggOverflow": false,
       "aggSchema": [],
       "aggSeriesLimitReached": false,
       "aggType": "",
       "arguments": {},
       "columnCustomDisplayInfos": {},
       "data": [
        [
         2,
         "38736",
         "antoine.amend+isv@databricks.com",
         true,
         1,
         "2025-09-25T19:08:29.811Z",
         null,
         true
        ],
        [
         3,
         "39489",
         "antoine.amend+isv@databricks.com",
         true,
         1,
         "2025-09-25T19:08:43.624Z",
         null,
         true
        ],
        [
         12,
         "33828",
         "antoine.amend+isv@databricks.com",
         true,
         1,
         "2025-09-26T16:24:16.884Z",
         "2025-09-26T20:23:39.218Z",
         false
        ],
        [
         13,
         "33828",
         "antoine.amend+isv@databricks.com",
         false,
         2,
         "2025-09-26T20:23:39.218Z",
         null,
         true
        ]
       ],
       "datasetInfos": [],
       "dbfsResultPath": null,
       "isJsonSchema": true,
       "metadata": {},
       "overflow": false,
       "plotOptions": {
        "customPlotOptions": {},
        "displayType": "table",
        "pivotAggregation": null,
        "pivotColumns": null,
        "xColumns": null,
        "yColumns": null
       },
       "removedWidgets": [],
       "schema": [
        {
         "metadata": "{}",
         "name": "id",
         "type": "\"integer\"",
         "typeName": "INT",
         "typeText": "INT"
        },
        {
         "metadata": "{}",
         "name": "entitlement_id",
         "type": "\"string\"",
         "typeName": "STRING",
         "typeText": "STRING"
        },
        {
         "metadata": "{}",
         "name": "principal_id",
         "type": "\"string\"",
         "typeName": "STRING",
         "typeText": "STRING"
        },
        {
         "metadata": "{}",
         "name": "is_granted",
         "type": "\"boolean\"",
         "typeName": "BOOLEAN",
         "typeText": "BOOLEAN"
        },
        {
         "metadata": "{}",
         "name": "version",
         "type": "\"integer\"",
         "typeName": "INT",
         "typeText": "INT"
        },
        {
         "metadata": "{}",
         "name": "effective_from",
         "type": "\"timestamp\"",
         "typeName": "TIMESTAMP",
         "typeText": "TIMESTAMP"
        },
        {
         "metadata": "{}",
         "name": "effective_to",
         "type": "\"timestamp\"",
         "typeName": "TIMESTAMP",
         "typeText": "TIMESTAMP"
        },
        {
         "metadata": "{}",
         "name": "is_current",
         "type": "\"boolean\"",
         "typeName": "BOOLEAN",
         "typeText": "BOOLEAN"
        }
       ],
       "type": "table"
      }
     },
     "output_type": "display_data"
    }
   ],
   "source": [
    "SELECT * FROM market_data_entitlements.public.bpipe;"
   ]
  },
  {
   "cell_type": "markdown",
   "metadata": {
    "application/vnd.databricks.v1+cell": {
     "cellMetadata": {},
     "inputWidgets": {},
     "nuid": "a0568539-c5cc-4444-9ea9-f7504d24b541",
     "showTitle": false,
     "tableResultSettingsMap": {},
     "title": ""
    }
   },
   "source": [
    "## Create a permissioning function\n",
    "We create a simple UC function atop of our entitlement table to test user permissioning. \n",
    "Given a EID, we check user ownership and entitlement status."
   ]
  },
  {
   "cell_type": "code",
   "execution_count": 0,
   "metadata": {
    "application/vnd.databricks.v1+cell": {
     "cellMetadata": {
      "byteLimit": 2048000,
      "rowLimit": 10000
     },
     "inputWidgets": {},
     "nuid": "22d7590f-b6fc-4ba3-b9e0-a28cb22ac747",
     "showTitle": false,
     "tableResultSettingsMap": {},
     "title": ""
    }
   },
   "outputs": [
    {
     "output_type": "display_data",
     "data": {
      "text/html": [
       "<style scoped>\n",
       "  .table-result-container {\n",
       "    max-height: 300px;\n",
       "    overflow: auto;\n",
       "  }\n",
       "  table, th, td {\n",
       "    border: 1px solid black;\n",
       "    border-collapse: collapse;\n",
       "  }\n",
       "  th, td {\n",
       "    padding: 5px;\n",
       "  }\n",
       "  th {\n",
       "    text-align: left;\n",
       "  }\n",
       "</style><div class='table-result-container'><table class='table-result'><thead style='background-color: white'><tr></tr></thead><tbody></tbody></table></div>"
      ]
     },
     "metadata": {
      "application/vnd.databricks.v1+output": {
       "addedWidgets": {},
       "aggData": [],
       "aggError": "",
       "aggOverflow": false,
       "aggSchema": [],
       "aggSeriesLimitReached": false,
       "aggType": "",
       "arguments": {},
       "columnCustomDisplayInfos": {},
       "data": [],
       "datasetInfos": [],
       "dbfsResultPath": null,
       "isJsonSchema": true,
       "metadata": {},
       "overflow": false,
       "plotOptions": {
        "customPlotOptions": {},
        "displayType": "table",
        "pivotAggregation": null,
        "pivotColumns": null,
        "xColumns": null,
        "yColumns": null
       },
       "removedWidgets": [],
       "schema": [],
       "type": "table"
      }
     },
     "output_type": "display_data"
    }
   ],
   "source": [
    "CREATE OR REPLACE FUNCTION market_data.providers.is_bpipe_eid_member(\n",
    "  eid STRING COMMENT 'The bloomberg entitlement ID we want to test user permissioning against'\n",
    "  )\n",
    "RETURNS BOOLEAN\n",
    "COMMENT 'Test if user has permission to a given bloomberg entitlement Id'\n",
    "RETURN EXISTS (\n",
    "  SELECT * FROM market_data_entitlements.public.bpipe\n",
    "  WHERE principal_id = current_user\n",
    "  AND entitlement_id = eid\n",
    "  AND is_current\n",
    "  AND is_granted\n",
    ");"
   ]
  },
  {
   "cell_type": "markdown",
   "metadata": {
    "application/vnd.databricks.v1+cell": {
     "cellMetadata": {},
     "inputWidgets": {},
     "nuid": "953a4012-981d-4911-a7d7-996d8fd4a1d8",
     "showTitle": false,
     "tableResultSettingsMap": {},
     "title": ""
    }
   },
   "source": [
    "Let us play with our UI to grant or revoke specific entitlements. \n",
    "We should see permissioning being reflected here right away since we do not depend on any ETL"
   ]
  },
  {
   "cell_type": "code",
   "execution_count": 0,
   "metadata": {
    "application/vnd.databricks.v1+cell": {
     "cellMetadata": {
      "byteLimit": 2048000,
      "rowLimit": 10000
     },
     "inputWidgets": {},
     "nuid": "2a5e7c1c-78e8-4fcd-9a60-4721d9d29d48",
     "showTitle": false,
     "tableResultSettingsMap": {
      "0": {
       "dataGridStateBlob": "{\"version\":1,\"tableState\":{\"columnPinning\":{\"left\":[\"#row_number#\"],\"right\":[]},\"columnSizing\":{},\"columnVisibility\":{}},\"settings\":{\"columns\":{}},\"syncTimestamp\":1758831207554}",
       "filterBlob": null,
       "queryPlanFiltersBlob": null,
       "tableResultIndex": 0
      }
     },
     "title": ""
    }
   },
   "outputs": [
    {
     "output_type": "display_data",
     "data": {
      "text/html": [
       "<style scoped>\n",
       "  .table-result-container {\n",
       "    max-height: 300px;\n",
       "    overflow: auto;\n",
       "  }\n",
       "  table, th, td {\n",
       "    border: 1px solid black;\n",
       "    border-collapse: collapse;\n",
       "  }\n",
       "  th, td {\n",
       "    padding: 5px;\n",
       "  }\n",
       "  th {\n",
       "    text-align: left;\n",
       "  }\n",
       "</style><div class='table-result-container'><table class='table-result'><thead style='background-color: white'><tr><th>IS_GRANTED</th></tr></thead><tbody><tr><td>true</td></tr></tbody></table></div>"
      ]
     },
     "metadata": {
      "application/vnd.databricks.v1+output": {
       "addedWidgets": {},
       "aggData": [],
       "aggError": "",
       "aggOverflow": false,
       "aggSchema": [],
       "aggSeriesLimitReached": false,
       "aggType": "",
       "arguments": {},
       "columnCustomDisplayInfos": {},
       "data": [
        [
         true
        ]
       ],
       "datasetInfos": [],
       "dbfsResultPath": null,
       "isJsonSchema": true,
       "metadata": {},
       "overflow": false,
       "plotOptions": {
        "customPlotOptions": {},
        "displayType": "table",
        "pivotAggregation": null,
        "pivotColumns": null,
        "xColumns": null,
        "yColumns": null
       },
       "removedWidgets": [],
       "schema": [
        {
         "metadata": "{}",
         "name": "IS_GRANTED",
         "type": "\"boolean\"",
         "typeName": "BOOLEAN",
         "typeText": "BOOLEAN"
        }
       ],
       "type": "table"
      }
     },
     "output_type": "display_data"
    }
   ],
   "source": [
    "SELECT market_data.providers.is_bpipe_eid_member('33828') AS IS_GRANTED;"
   ]
  },
  {
   "cell_type": "markdown",
   "metadata": {
    "application/vnd.databricks.v1+cell": {
     "cellMetadata": {},
     "inputWidgets": {},
     "nuid": "10d74a2b-f82a-4254-bff6-1694c13a00a0",
     "showTitle": false,
     "tableResultSettingsMap": {},
     "title": ""
    }
   },
   "source": [
    "## Reading our BPipe table\n",
    "With our permissioning function registered, we can use entitlement as ways to filter out records we are not entitled to see.\n",
    "This is just for testing purpose and will be enforced later."
   ]
  },
  {
   "cell_type": "code",
   "execution_count": 0,
   "metadata": {
    "application/vnd.databricks.v1+cell": {
     "cellMetadata": {
      "byteLimit": 2048000,
      "rowLimit": 10000
     },
     "inputWidgets": {},
     "nuid": "5e19cde2-cc76-43ec-847c-b31a6c04c544",
     "showTitle": false,
     "tableResultSettingsMap": {
      "0": {
       "dataGridStateBlob": "{\"version\":1,\"tableState\":{\"columnPinning\":{\"left\":[\"#row_number#\"],\"right\":[]},\"columnSizing\":{},\"columnVisibility\":{}},\"settings\":{\"columns\":{}},\"syncTimestamp\":1758918184901}",
       "filterBlob": null,
       "queryPlanFiltersBlob": null,
       "tableResultIndex": 0
      }
     },
     "title": ""
    }
   },
   "outputs": [
    {
     "output_type": "display_data",
     "data": {
      "text/html": [
       "<style scoped>\n",
       "  .table-result-container {\n",
       "    max-height: 300px;\n",
       "    overflow: auto;\n",
       "  }\n",
       "  table, th, td {\n",
       "    border: 1px solid black;\n",
       "    border-collapse: collapse;\n",
       "  }\n",
       "  th, td {\n",
       "    padding: 5px;\n",
       "  }\n",
       "  th {\n",
       "    text-align: left;\n",
       "  }\n",
       "</style><div class='table-result-container'><table class='table-result'><thead style='background-color: white'><tr><th>SECURITY</th><th>NAME_RT</th><th>MKTDATA_EVENT_TYPE</th><th>MKTDATA_EVENT_SUBTYPE</th><th>EID</th><th>BID</th><th>ASK</th><th>LAST_PRICE</th><th>VOLUME</th><th>BID_SIZE</th><th>ASK_SIZE</th><th>SIZE_LAST_TRADE</th><th>IS_DELAYED_STREAM</th><th>TRADE_UPDATE_STAMP_RT</th><th>processed_timestamp</th></tr></thead><tbody><tr><td>USNBFSAO BGN Curncy</td><td>null</td><td>SUMMARY</td><td>INITPAINT</td><td>33828</td><td>null</td><td>null</td><td>null</td><td>null</td><td>null</td><td>null</td><td>null</td><td>false</td><td>null</td><td>2025-09-26T20:22:15.157Z</td></tr><tr><td>USPUAZ30 BGN Curncy</td><td>null</td><td>SUMMARY</td><td>INITPAINT</td><td>33828</td><td>null</td><td>null</td><td>null</td><td>null</td><td>null</td><td>null</td><td>null</td><td>false</td><td>null</td><td>2025-09-26T20:22:15.157Z</td></tr><tr><td>SAPQ1202 BGN Curncy</td><td>null</td><td>SUMMARY</td><td>INITPAINT</td><td>33828</td><td>null</td><td>null</td><td>null</td><td>null</td><td>null</td><td>null</td><td>null</td><td>false</td><td>null</td><td>2025-09-26T20:22:15.157Z</td></tr><tr><td>SBBL1205 BGN Curncy</td><td>null</td><td>SUMMARY</td><td>INITPAINT</td><td>33828</td><td>null</td><td>null</td><td>null</td><td>null</td><td>null</td><td>null</td><td>null</td><td>false</td><td>null</td><td>2025-09-26T20:22:15.157Z</td></tr><tr><td>CNYJ0120 BGN Curncy</td><td>null</td><td>SUMMARY</td><td>INITPAINT</td><td>33828</td><td>null</td><td>null</td><td>null</td><td>null</td><td>null</td><td>null</td><td>null</td><td>false</td><td>null</td><td>2025-09-26T20:22:15.157Z</td></tr><tr><td>BPNI35 BGN Curncy</td><td>null</td><td>SUMMARY</td><td>INITPAINT</td><td>33828</td><td>null</td><td>null</td><td>null</td><td>null</td><td>null</td><td>null</td><td>null</td><td>false</td><td>null</td><td>2025-09-26T20:22:15.157Z</td></tr><tr><td>GBPGHFEA BGN Curncy</td><td>null</td><td>SUMMARY</td><td>INITPAINT</td><td>33828</td><td>null</td><td>null</td><td>null</td><td>null</td><td>null</td><td>null</td><td>null</td><td>false</td><td>null</td><td>2025-09-26T20:22:15.157Z</td></tr><tr><td>CLSE0515 BGN Curncy</td><td>null</td><td>SUMMARY</td><td>INITPAINT</td><td>33828</td><td>null</td><td>null</td><td>null</td><td>null</td><td>null</td><td>null</td><td>null</td><td>false</td><td>null</td><td>2025-09-26T20:22:15.157Z</td></tr><tr><td>UDTL1003 BGN Curncy</td><td>null</td><td>SUMMARY</td><td>INITPAINT</td><td>33828</td><td>null</td><td>null</td><td>null</td><td>null</td><td>null</td><td>null</td><td>null</td><td>false</td><td>null</td><td>2025-09-26T20:22:15.157Z</td></tr><tr><td>ISFS121F BGN Curncy</td><td>null</td><td>SUMMARY</td><td>INITPAINT</td><td>33828</td><td>null</td><td>null</td><td>null</td><td>null</td><td>null</td><td>null</td><td>null</td><td>false</td><td>null</td><td>2025-09-26T20:22:15.157Z</td></tr><tr><td>BPNI35 BGN Curncy</td><td>null</td><td>SUMMARY</td><td>INITPAINT</td><td>33828</td><td>null</td><td>null</td><td>null</td><td>null</td><td>null</td><td>null</td><td>null</td><td>false</td><td>null</td><td>2025-09-26T20:22:21.084Z</td></tr><tr><td>USNBFSAO BGN Curncy</td><td>null</td><td>SUMMARY</td><td>INITPAINT</td><td>33828</td><td>null</td><td>null</td><td>null</td><td>null</td><td>null</td><td>null</td><td>null</td><td>false</td><td>null</td><td>2025-09-26T20:22:21.084Z</td></tr><tr><td>USPUAZ30 BGN Curncy</td><td>null</td><td>SUMMARY</td><td>INITPAINT</td><td>33828</td><td>null</td><td>null</td><td>null</td><td>null</td><td>null</td><td>null</td><td>null</td><td>false</td><td>null</td><td>2025-09-26T20:22:21.084Z</td></tr><tr><td>ISFS121F BGN Curncy</td><td>null</td><td>SUMMARY</td><td>INITPAINT</td><td>33828</td><td>null</td><td>null</td><td>null</td><td>null</td><td>null</td><td>null</td><td>null</td><td>false</td><td>null</td><td>2025-09-26T20:22:21.084Z</td></tr><tr><td>UDTL1003 BGN Curncy</td><td>null</td><td>SUMMARY</td><td>INITPAINT</td><td>33828</td><td>null</td><td>null</td><td>null</td><td>null</td><td>null</td><td>null</td><td>null</td><td>false</td><td>null</td><td>2025-09-26T20:22:21.084Z</td></tr><tr><td>SAPQ1202 BGN Curncy</td><td>null</td><td>SUMMARY</td><td>INITPAINT</td><td>33828</td><td>null</td><td>null</td><td>null</td><td>null</td><td>null</td><td>null</td><td>null</td><td>false</td><td>null</td><td>2025-09-26T20:22:21.084Z</td></tr><tr><td>CLSE0515 BGN Curncy</td><td>null</td><td>SUMMARY</td><td>INITPAINT</td><td>33828</td><td>null</td><td>null</td><td>null</td><td>null</td><td>null</td><td>null</td><td>null</td><td>false</td><td>null</td><td>2025-09-26T20:22:21.084Z</td></tr><tr><td>SBBL1205 BGN Curncy</td><td>null</td><td>SUMMARY</td><td>INITPAINT</td><td>33828</td><td>null</td><td>null</td><td>null</td><td>null</td><td>null</td><td>null</td><td>null</td><td>false</td><td>null</td><td>2025-09-26T20:22:21.084Z</td></tr><tr><td>GBPGHFEA BGN Curncy</td><td>null</td><td>SUMMARY</td><td>INITPAINT</td><td>33828</td><td>null</td><td>null</td><td>null</td><td>null</td><td>null</td><td>null</td><td>null</td><td>false</td><td>null</td><td>2025-09-26T20:22:21.084Z</td></tr><tr><td>CNYJ0120 BGN Curncy</td><td>null</td><td>SUMMARY</td><td>INITPAINT</td><td>33828</td><td>null</td><td>null</td><td>null</td><td>null</td><td>null</td><td>null</td><td>null</td><td>false</td><td>null</td><td>2025-09-26T20:22:21.084Z</td></tr></tbody></table></div>"
      ]
     },
     "metadata": {
      "application/vnd.databricks.v1+output": {
       "addedWidgets": {},
       "aggData": [],
       "aggError": "",
       "aggOverflow": false,
       "aggSchema": [],
       "aggSeriesLimitReached": false,
       "aggType": "",
       "arguments": {},
       "columnCustomDisplayInfos": {},
       "data": [
        [
         "USNBFSAO BGN Curncy",
         null,
         "SUMMARY",
         "INITPAINT",
         33828,
         null,
         null,
         null,
         null,
         null,
         null,
         null,
         false,
         null,
         "2025-09-26T20:22:15.157Z"
        ],
        [
         "USPUAZ30 BGN Curncy",
         null,
         "SUMMARY",
         "INITPAINT",
         33828,
         null,
         null,
         null,
         null,
         null,
         null,
         null,
         false,
         null,
         "2025-09-26T20:22:15.157Z"
        ],
        [
         "SAPQ1202 BGN Curncy",
         null,
         "SUMMARY",
         "INITPAINT",
         33828,
         null,
         null,
         null,
         null,
         null,
         null,
         null,
         false,
         null,
         "2025-09-26T20:22:15.157Z"
        ],
        [
         "SBBL1205 BGN Curncy",
         null,
         "SUMMARY",
         "INITPAINT",
         33828,
         null,
         null,
         null,
         null,
         null,
         null,
         null,
         false,
         null,
         "2025-09-26T20:22:15.157Z"
        ],
        [
         "CNYJ0120 BGN Curncy",
         null,
         "SUMMARY",
         "INITPAINT",
         33828,
         null,
         null,
         null,
         null,
         null,
         null,
         null,
         false,
         null,
         "2025-09-26T20:22:15.157Z"
        ],
        [
         "BPNI35 BGN Curncy",
         null,
         "SUMMARY",
         "INITPAINT",
         33828,
         null,
         null,
         null,
         null,
         null,
         null,
         null,
         false,
         null,
         "2025-09-26T20:22:15.157Z"
        ],
        [
         "GBPGHFEA BGN Curncy",
         null,
         "SUMMARY",
         "INITPAINT",
         33828,
         null,
         null,
         null,
         null,
         null,
         null,
         null,
         false,
         null,
         "2025-09-26T20:22:15.157Z"
        ],
        [
         "CLSE0515 BGN Curncy",
         null,
         "SUMMARY",
         "INITPAINT",
         33828,
         null,
         null,
         null,
         null,
         null,
         null,
         null,
         false,
         null,
         "2025-09-26T20:22:15.157Z"
        ],
        [
         "UDTL1003 BGN Curncy",
         null,
         "SUMMARY",
         "INITPAINT",
         33828,
         null,
         null,
         null,
         null,
         null,
         null,
         null,
         false,
         null,
         "2025-09-26T20:22:15.157Z"
        ],
        [
         "ISFS121F BGN Curncy",
         null,
         "SUMMARY",
         "INITPAINT",
         33828,
         null,
         null,
         null,
         null,
         null,
         null,
         null,
         false,
         null,
         "2025-09-26T20:22:15.157Z"
        ],
        [
         "BPNI35 BGN Curncy",
         null,
         "SUMMARY",
         "INITPAINT",
         33828,
         null,
         null,
         null,
         null,
         null,
         null,
         null,
         false,
         null,
         "2025-09-26T20:22:21.084Z"
        ],
        [
         "USNBFSAO BGN Curncy",
         null,
         "SUMMARY",
         "INITPAINT",
         33828,
         null,
         null,
         null,
         null,
         null,
         null,
         null,
         false,
         null,
         "2025-09-26T20:22:21.084Z"
        ],
        [
         "USPUAZ30 BGN Curncy",
         null,
         "SUMMARY",
         "INITPAINT",
         33828,
         null,
         null,
         null,
         null,
         null,
         null,
         null,
         false,
         null,
         "2025-09-26T20:22:21.084Z"
        ],
        [
         "ISFS121F BGN Curncy",
         null,
         "SUMMARY",
         "INITPAINT",
         33828,
         null,
         null,
         null,
         null,
         null,
         null,
         null,
         false,
         null,
         "2025-09-26T20:22:21.084Z"
        ],
        [
         "UDTL1003 BGN Curncy",
         null,
         "SUMMARY",
         "INITPAINT",
         33828,
         null,
         null,
         null,
         null,
         null,
         null,
         null,
         false,
         null,
         "2025-09-26T20:22:21.084Z"
        ],
        [
         "SAPQ1202 BGN Curncy",
         null,
         "SUMMARY",
         "INITPAINT",
         33828,
         null,
         null,
         null,
         null,
         null,
         null,
         null,
         false,
         null,
         "2025-09-26T20:22:21.084Z"
        ],
        [
         "CLSE0515 BGN Curncy",
         null,
         "SUMMARY",
         "INITPAINT",
         33828,
         null,
         null,
         null,
         null,
         null,
         null,
         null,
         false,
         null,
         "2025-09-26T20:22:21.084Z"
        ],
        [
         "SBBL1205 BGN Curncy",
         null,
         "SUMMARY",
         "INITPAINT",
         33828,
         null,
         null,
         null,
         null,
         null,
         null,
         null,
         false,
         null,
         "2025-09-26T20:22:21.084Z"
        ],
        [
         "GBPGHFEA BGN Curncy",
         null,
         "SUMMARY",
         "INITPAINT",
         33828,
         null,
         null,
         null,
         null,
         null,
         null,
         null,
         false,
         null,
         "2025-09-26T20:22:21.084Z"
        ],
        [
         "CNYJ0120 BGN Curncy",
         null,
         "SUMMARY",
         "INITPAINT",
         33828,
         null,
         null,
         null,
         null,
         null,
         null,
         null,
         false,
         null,
         "2025-09-26T20:22:21.084Z"
        ]
       ],
       "datasetInfos": [],
       "dbfsResultPath": null,
       "isJsonSchema": true,
       "metadata": {},
       "overflow": false,
       "plotOptions": {
        "customPlotOptions": {},
        "displayType": "table",
        "pivotAggregation": null,
        "pivotColumns": null,
        "xColumns": null,
        "yColumns": null
       },
       "removedWidgets": [],
       "schema": [
        {
         "metadata": "{}",
         "name": "SECURITY",
         "type": "\"string\"",
         "typeName": "STRING",
         "typeText": "STRING"
        },
        {
         "metadata": "{}",
         "name": "NAME_RT",
         "type": "\"string\"",
         "typeName": "STRING",
         "typeText": "STRING"
        },
        {
         "metadata": "{}",
         "name": "MKTDATA_EVENT_TYPE",
         "type": "\"string\"",
         "typeName": "STRING",
         "typeText": "STRING"
        },
        {
         "metadata": "{}",
         "name": "MKTDATA_EVENT_SUBTYPE",
         "type": "\"string\"",
         "typeName": "STRING",
         "typeText": "STRING"
        },
        {
         "metadata": "{}",
         "name": "EID",
         "type": "\"long\"",
         "typeName": "LONG",
         "typeText": "BIGINT"
        },
        {
         "metadata": "{}",
         "name": "BID",
         "type": "\"double\"",
         "typeName": "DOUBLE",
         "typeText": "DOUBLE"
        },
        {
         "metadata": "{}",
         "name": "ASK",
         "type": "\"double\"",
         "typeName": "DOUBLE",
         "typeText": "DOUBLE"
        },
        {
         "metadata": "{}",
         "name": "LAST_PRICE",
         "type": "\"double\"",
         "typeName": "DOUBLE",
         "typeText": "DOUBLE"
        },
        {
         "metadata": "{}",
         "name": "VOLUME",
         "type": "\"long\"",
         "typeName": "LONG",
         "typeText": "BIGINT"
        },
        {
         "metadata": "{}",
         "name": "BID_SIZE",
         "type": "\"integer\"",
         "typeName": "INT",
         "typeText": "INT"
        },
        {
         "metadata": "{}",
         "name": "ASK_SIZE",
         "type": "\"integer\"",
         "typeName": "INT",
         "typeText": "INT"
        },
        {
         "metadata": "{}",
         "name": "SIZE_LAST_TRADE",
         "type": "\"integer\"",
         "typeName": "INT",
         "typeText": "INT"
        },
        {
         "metadata": "{}",
         "name": "IS_DELAYED_STREAM",
         "type": "\"boolean\"",
         "typeName": "BOOLEAN",
         "typeText": "BOOLEAN"
        },
        {
         "metadata": "{}",
         "name": "TRADE_UPDATE_STAMP_RT",
         "type": "\"timestamp\"",
         "typeName": "TIMESTAMP",
         "typeText": "TIMESTAMP"
        },
        {
         "metadata": "{}",
         "name": "processed_timestamp",
         "type": "\"timestamp\"",
         "typeName": "TIMESTAMP",
         "typeText": "TIMESTAMP"
        }
       ],
       "type": "table"
      }
     },
     "output_type": "display_data"
    }
   ],
   "source": [
    "SELECT * FROM market_data.providers.bloomberg_bpipe\n",
    "WHERE market_data.providers.is_bpipe_eid_member(EID)\n",
    "LIMIT 20;"
   ]
  },
  {
   "cell_type": "markdown",
   "metadata": {
    "application/vnd.databricks.v1+cell": {
     "cellMetadata": {},
     "inputWidgets": {},
     "nuid": "100941d4-f28a-4b49-a8b8-8d362d6a6eb9",
     "showTitle": false,
     "tableResultSettingsMap": {},
     "title": ""
    }
   },
   "source": [
    "## Enforcing entitlement policies\n",
    "We can enforce that function by creating a row filter in our registered bpipe table"
   ]
  },
  {
   "cell_type": "markdown",
   "metadata": {
    "application/vnd.databricks.v1+cell": {
     "cellMetadata": {},
     "inputWidgets": {},
     "nuid": "63adac95-1727-4606-8b73-d909283ac34f",
     "showTitle": false,
     "tableResultSettingsMap": {},
     "title": ""
    }
   },
   "source": [
    "<img src='bpipe_row_filter_enabled.png'>"
   ]
  },
  {
   "cell_type": "markdown",
   "metadata": {
    "application/vnd.databricks.v1+cell": {
     "cellMetadata": {},
     "inputWidgets": {},
     "nuid": "7f7c17b9-4aea-404b-a0d4-6e8d144a92e7",
     "showTitle": false,
     "tableResultSettingsMap": {},
     "title": ""
    }
   },
   "source": [
    "## Testing our entitlement policy\n",
    "And voila, with our entitlement policy being enforced, we can restrict access to specific records based on EID entitlements. This policy table is always one as available on Lakebase, and guarantees audit & traceability given its SCD type 2 schema"
   ]
  },
  {
   "cell_type": "code",
   "execution_count": 0,
   "metadata": {
    "application/vnd.databricks.v1+cell": {
     "cellMetadata": {
      "byteLimit": 2048000,
      "rowLimit": 10000
     },
     "inputWidgets": {},
     "nuid": "cf17354e-893c-4320-a705-99e1f7d64893",
     "showTitle": false,
     "tableResultSettingsMap": {},
     "title": ""
    }
   },
   "outputs": [
    {
     "output_type": "display_data",
     "data": {
      "text/html": [
       "<style scoped>\n",
       "  .table-result-container {\n",
       "    max-height: 300px;\n",
       "    overflow: auto;\n",
       "  }\n",
       "  table, th, td {\n",
       "    border: 1px solid black;\n",
       "    border-collapse: collapse;\n",
       "  }\n",
       "  th, td {\n",
       "    padding: 5px;\n",
       "  }\n",
       "  th {\n",
       "    text-align: left;\n",
       "  }\n",
       "</style><div class='table-result-container'><table class='table-result'><thead style='background-color: white'><tr><th>SECURITY</th><th>NAME_RT</th><th>MKTDATA_EVENT_TYPE</th><th>MKTDATA_EVENT_SUBTYPE</th><th>EID</th><th>BID</th><th>ASK</th><th>LAST_PRICE</th><th>VOLUME</th><th>BID_SIZE</th><th>ASK_SIZE</th><th>SIZE_LAST_TRADE</th><th>IS_DELAYED_STREAM</th><th>TRADE_UPDATE_STAMP_RT</th><th>processed_timestamp</th></tr></thead><tbody><tr><td>GBPGHFEA BGN Curncy</td><td>null</td><td>SUMMARY</td><td>INITPAINT</td><td>33828</td><td>null</td><td>null</td><td>null</td><td>null</td><td>null</td><td>null</td><td>null</td><td>false</td><td>null</td><td>2025-09-26T20:28:13.118Z</td></tr><tr><td>CNYJ0120 BGN Curncy</td><td>null</td><td>SUMMARY</td><td>INITPAINT</td><td>33828</td><td>null</td><td>null</td><td>null</td><td>null</td><td>null</td><td>null</td><td>null</td><td>false</td><td>null</td><td>2025-09-26T20:28:13.118Z</td></tr><tr><td>UDTL1003 BGN Curncy</td><td>null</td><td>SUMMARY</td><td>INITPAINT</td><td>33828</td><td>null</td><td>null</td><td>null</td><td>null</td><td>null</td><td>null</td><td>null</td><td>false</td><td>null</td><td>2025-09-26T20:28:13.118Z</td></tr><tr><td>SBBL1205 BGN Curncy</td><td>null</td><td>SUMMARY</td><td>INITPAINT</td><td>33828</td><td>null</td><td>null</td><td>null</td><td>null</td><td>null</td><td>null</td><td>null</td><td>false</td><td>null</td><td>2025-09-26T20:28:13.118Z</td></tr><tr><td>CLSE0515 BGN Curncy</td><td>null</td><td>SUMMARY</td><td>INITPAINT</td><td>33828</td><td>null</td><td>null</td><td>null</td><td>null</td><td>null</td><td>null</td><td>null</td><td>false</td><td>null</td><td>2025-09-26T20:28:13.118Z</td></tr><tr><td>SAPQ1202 BGN Curncy</td><td>null</td><td>SUMMARY</td><td>INITPAINT</td><td>33828</td><td>null</td><td>null</td><td>null</td><td>null</td><td>null</td><td>null</td><td>null</td><td>false</td><td>null</td><td>2025-09-26T20:28:13.118Z</td></tr><tr><td>ISFS121F BGN Curncy</td><td>null</td><td>SUMMARY</td><td>INITPAINT</td><td>33828</td><td>null</td><td>null</td><td>null</td><td>null</td><td>null</td><td>null</td><td>null</td><td>false</td><td>null</td><td>2025-09-26T20:28:13.118Z</td></tr><tr><td>USPUAZ30 BGN Curncy</td><td>null</td><td>SUMMARY</td><td>INITPAINT</td><td>33828</td><td>null</td><td>null</td><td>null</td><td>null</td><td>null</td><td>null</td><td>null</td><td>false</td><td>null</td><td>2025-09-26T20:28:13.118Z</td></tr><tr><td>USNBFSAO BGN Curncy</td><td>null</td><td>SUMMARY</td><td>INITPAINT</td><td>33828</td><td>null</td><td>null</td><td>null</td><td>null</td><td>null</td><td>null</td><td>null</td><td>false</td><td>null</td><td>2025-09-26T20:28:13.118Z</td></tr><tr><td>BPNI35 BGN Curncy</td><td>null</td><td>SUMMARY</td><td>INITPAINT</td><td>33828</td><td>null</td><td>null</td><td>null</td><td>null</td><td>null</td><td>null</td><td>null</td><td>false</td><td>null</td><td>2025-09-26T20:28:13.118Z</td></tr><tr><td>GBPGHFEA BGN Curncy</td><td>GBP SWPT %VOL 50 20Y15Y</td><td>REFERENCE</td><td>INITPAINT</td><td>35009</td><td>null</td><td>null</td><td>null</td><td>null</td><td>null</td><td>null</td><td>null</td><td>false</td><td>null</td><td>2025-09-26T20:28:13.118Z</td></tr><tr><td>CNYJ0120 BGN Curncy</td><td>CNY OFF SWPT PREM 100 1Y</td><td>REFERENCE</td><td>INITPAINT</td><td>35009</td><td>null</td><td>null</td><td>null</td><td>null</td><td>null</td><td>null</td><td>null</td><td>false</td><td>null</td><td>2025-09-26T20:28:13.118Z</td></tr><tr><td>UDTL1003 BGN Curncy</td><td>AED SWPT SPRD NVOL 250 1</td><td>REFERENCE</td><td>INITPAINT</td><td>35009</td><td>null</td><td>null</td><td>null</td><td>null</td><td>null</td><td>null</td><td>null</td><td>false</td><td>null</td><td>2025-09-26T20:28:13.118Z</td></tr><tr><td>SBBL1205 BGN Curncy</td><td>SEK SWPT %VOL OIS-350 12</td><td>REFERENCE</td><td>INITPAINT</td><td>35009</td><td>null</td><td>null</td><td>null</td><td>null</td><td>null</td><td>null</td><td>null</td><td>false</td><td>null</td><td>2025-09-26T20:28:13.118Z</td></tr><tr><td>CLSE0515 BGN Curncy</td><td>CAD SPR %V-100 COR 5Y15Y</td><td>REFERENCE</td><td>INITPAINT</td><td>35009</td><td>null</td><td>null</td><td>null</td><td>null</td><td>null</td><td>null</td><td>null</td><td>false</td><td>null</td><td>2025-09-26T20:28:13.118Z</td></tr><tr><td>SAPQ1202 BGN Curncy</td><td>ZAR SWPT PREM 75 12Y2Y</td><td>REFERENCE</td><td>INITPAINT</td><td>35009</td><td>null</td><td>null</td><td>null</td><td>null</td><td>null</td><td>null</td><td>null</td><td>false</td><td>null</td><td>2025-09-26T20:28:13.118Z</td></tr><tr><td>ISFS121F BGN Curncy</td><td>ILS FORWARD SWAP 12YX18M</td><td>REFERENCE</td><td>INITPAINT</td><td>35009</td><td>null</td><td>null</td><td>null</td><td>null</td><td>null</td><td>null</td><td>null</td><td>false</td><td>null</td><td>2025-09-26T20:28:13.118Z</td></tr><tr><td>USPUAZ30 BGN Curncy</td><td>US SP PR SOFR 350 30Y30Y</td><td>REFERENCE</td><td>INITPAINT</td><td>35009</td><td>null</td><td>null</td><td>null</td><td>null</td><td>null</td><td>null</td><td>null</td><td>false</td><td>null</td><td>2025-09-26T20:28:13.118Z</td></tr><tr><td>USNBFSAO BGN Curncy</td><td>USD Cap 4Y13Y</td><td>REFERENCE</td><td>INITPAINT</td><td>35009</td><td>null</td><td>null</td><td>null</td><td>null</td><td>null</td><td>null</td><td>null</td><td>false</td><td>null</td><td>2025-09-26T20:28:13.118Z</td></tr><tr><td>BPNI35 BGN Curncy</td><td>GBP SWPT NVOL OIS-150 3Y</td><td>REFERENCE</td><td>INITPAINT</td><td>35009</td><td>null</td><td>null</td><td>null</td><td>null</td><td>null</td><td>null</td><td>null</td><td>false</td><td>null</td><td>2025-09-26T20:28:13.118Z</td></tr></tbody></table></div>"
      ]
     },
     "metadata": {
      "application/vnd.databricks.v1+output": {
       "addedWidgets": {},
       "aggData": [],
       "aggError": "",
       "aggOverflow": false,
       "aggSchema": [],
       "aggSeriesLimitReached": false,
       "aggType": "",
       "arguments": {},
       "columnCustomDisplayInfos": {},
       "data": [
        [
         "GBPGHFEA BGN Curncy",
         null,
         "SUMMARY",
         "INITPAINT",
         33828,
         null,
         null,
         null,
         null,
         null,
         null,
         null,
         false,
         null,
         "2025-09-26T20:28:13.118Z"
        ],
        [
         "CNYJ0120 BGN Curncy",
         null,
         "SUMMARY",
         "INITPAINT",
         33828,
         null,
         null,
         null,
         null,
         null,
         null,
         null,
         false,
         null,
         "2025-09-26T20:28:13.118Z"
        ],
        [
         "UDTL1003 BGN Curncy",
         null,
         "SUMMARY",
         "INITPAINT",
         33828,
         null,
         null,
         null,
         null,
         null,
         null,
         null,
         false,
         null,
         "2025-09-26T20:28:13.118Z"
        ],
        [
         "SBBL1205 BGN Curncy",
         null,
         "SUMMARY",
         "INITPAINT",
         33828,
         null,
         null,
         null,
         null,
         null,
         null,
         null,
         false,
         null,
         "2025-09-26T20:28:13.118Z"
        ],
        [
         "CLSE0515 BGN Curncy",
         null,
         "SUMMARY",
         "INITPAINT",
         33828,
         null,
         null,
         null,
         null,
         null,
         null,
         null,
         false,
         null,
         "2025-09-26T20:28:13.118Z"
        ],
        [
         "SAPQ1202 BGN Curncy",
         null,
         "SUMMARY",
         "INITPAINT",
         33828,
         null,
         null,
         null,
         null,
         null,
         null,
         null,
         false,
         null,
         "2025-09-26T20:28:13.118Z"
        ],
        [
         "ISFS121F BGN Curncy",
         null,
         "SUMMARY",
         "INITPAINT",
         33828,
         null,
         null,
         null,
         null,
         null,
         null,
         null,
         false,
         null,
         "2025-09-26T20:28:13.118Z"
        ],
        [
         "USPUAZ30 BGN Curncy",
         null,
         "SUMMARY",
         "INITPAINT",
         33828,
         null,
         null,
         null,
         null,
         null,
         null,
         null,
         false,
         null,
         "2025-09-26T20:28:13.118Z"
        ],
        [
         "USNBFSAO BGN Curncy",
         null,
         "SUMMARY",
         "INITPAINT",
         33828,
         null,
         null,
         null,
         null,
         null,
         null,
         null,
         false,
         null,
         "2025-09-26T20:28:13.118Z"
        ],
        [
         "BPNI35 BGN Curncy",
         null,
         "SUMMARY",
         "INITPAINT",
         33828,
         null,
         null,
         null,
         null,
         null,
         null,
         null,
         false,
         null,
         "2025-09-26T20:28:13.118Z"
        ],
        [
         "GBPGHFEA BGN Curncy",
         "GBP SWPT %VOL 50 20Y15Y",
         "REFERENCE",
         "INITPAINT",
         35009,
         null,
         null,
         null,
         null,
         null,
         null,
         null,
         false,
         null,
         "2025-09-26T20:28:13.118Z"
        ],
        [
         "CNYJ0120 BGN Curncy",
         "CNY OFF SWPT PREM 100 1Y",
         "REFERENCE",
         "INITPAINT",
         35009,
         null,
         null,
         null,
         null,
         null,
         null,
         null,
         false,
         null,
         "2025-09-26T20:28:13.118Z"
        ],
        [
         "UDTL1003 BGN Curncy",
         "AED SWPT SPRD NVOL 250 1",
         "REFERENCE",
         "INITPAINT",
         35009,
         null,
         null,
         null,
         null,
         null,
         null,
         null,
         false,
         null,
         "2025-09-26T20:28:13.118Z"
        ],
        [
         "SBBL1205 BGN Curncy",
         "SEK SWPT %VOL OIS-350 12",
         "REFERENCE",
         "INITPAINT",
         35009,
         null,
         null,
         null,
         null,
         null,
         null,
         null,
         false,
         null,
         "2025-09-26T20:28:13.118Z"
        ],
        [
         "CLSE0515 BGN Curncy",
         "CAD SPR %V-100 COR 5Y15Y",
         "REFERENCE",
         "INITPAINT",
         35009,
         null,
         null,
         null,
         null,
         null,
         null,
         null,
         false,
         null,
         "2025-09-26T20:28:13.118Z"
        ],
        [
         "SAPQ1202 BGN Curncy",
         "ZAR SWPT PREM 75 12Y2Y",
         "REFERENCE",
         "INITPAINT",
         35009,
         null,
         null,
         null,
         null,
         null,
         null,
         null,
         false,
         null,
         "2025-09-26T20:28:13.118Z"
        ],
        [
         "ISFS121F BGN Curncy",
         "ILS FORWARD SWAP 12YX18M",
         "REFERENCE",
         "INITPAINT",
         35009,
         null,
         null,
         null,
         null,
         null,
         null,
         null,
         false,
         null,
         "2025-09-26T20:28:13.118Z"
        ],
        [
         "USPUAZ30 BGN Curncy",
         "US SP PR SOFR 350 30Y30Y",
         "REFERENCE",
         "INITPAINT",
         35009,
         null,
         null,
         null,
         null,
         null,
         null,
         null,
         false,
         null,
         "2025-09-26T20:28:13.118Z"
        ],
        [
         "USNBFSAO BGN Curncy",
         "USD Cap 4Y13Y",
         "REFERENCE",
         "INITPAINT",
         35009,
         null,
         null,
         null,
         null,
         null,
         null,
         null,
         false,
         null,
         "2025-09-26T20:28:13.118Z"
        ],
        [
         "BPNI35 BGN Curncy",
         "GBP SWPT NVOL OIS-150 3Y",
         "REFERENCE",
         "INITPAINT",
         35009,
         null,
         null,
         null,
         null,
         null,
         null,
         null,
         false,
         null,
         "2025-09-26T20:28:13.118Z"
        ]
       ],
       "datasetInfos": [],
       "dbfsResultPath": null,
       "isJsonSchema": true,
       "metadata": {},
       "overflow": false,
       "plotOptions": {
        "customPlotOptions": {},
        "displayType": "table",
        "pivotAggregation": null,
        "pivotColumns": null,
        "xColumns": null,
        "yColumns": null
       },
       "removedWidgets": [],
       "schema": [
        {
         "metadata": "{}",
         "name": "SECURITY",
         "type": "\"string\"",
         "typeName": "STRING",
         "typeText": "STRING"
        },
        {
         "metadata": "{}",
         "name": "NAME_RT",
         "type": "\"string\"",
         "typeName": "STRING",
         "typeText": "STRING"
        },
        {
         "metadata": "{}",
         "name": "MKTDATA_EVENT_TYPE",
         "type": "\"string\"",
         "typeName": "STRING",
         "typeText": "STRING"
        },
        {
         "metadata": "{}",
         "name": "MKTDATA_EVENT_SUBTYPE",
         "type": "\"string\"",
         "typeName": "STRING",
         "typeText": "STRING"
        },
        {
         "metadata": "{}",
         "name": "EID",
         "type": "\"long\"",
         "typeName": "LONG",
         "typeText": "BIGINT"
        },
        {
         "metadata": "{}",
         "name": "BID",
         "type": "\"double\"",
         "typeName": "DOUBLE",
         "typeText": "DOUBLE"
        },
        {
         "metadata": "{}",
         "name": "ASK",
         "type": "\"double\"",
         "typeName": "DOUBLE",
         "typeText": "DOUBLE"
        },
        {
         "metadata": "{}",
         "name": "LAST_PRICE",
         "type": "\"double\"",
         "typeName": "DOUBLE",
         "typeText": "DOUBLE"
        },
        {
         "metadata": "{}",
         "name": "VOLUME",
         "type": "\"long\"",
         "typeName": "LONG",
         "typeText": "BIGINT"
        },
        {
         "metadata": "{}",
         "name": "BID_SIZE",
         "type": "\"integer\"",
         "typeName": "INT",
         "typeText": "INT"
        },
        {
         "metadata": "{}",
         "name": "ASK_SIZE",
         "type": "\"integer\"",
         "typeName": "INT",
         "typeText": "INT"
        },
        {
         "metadata": "{}",
         "name": "SIZE_LAST_TRADE",
         "type": "\"integer\"",
         "typeName": "INT",
         "typeText": "INT"
        },
        {
         "metadata": "{}",
         "name": "IS_DELAYED_STREAM",
         "type": "\"boolean\"",
         "typeName": "BOOLEAN",
         "typeText": "BOOLEAN"
        },
        {
         "metadata": "{}",
         "name": "TRADE_UPDATE_STAMP_RT",
         "type": "\"timestamp\"",
         "typeName": "TIMESTAMP",
         "typeText": "TIMESTAMP"
        },
        {
         "metadata": "{}",
         "name": "processed_timestamp",
         "type": "\"timestamp\"",
         "typeName": "TIMESTAMP",
         "typeText": "TIMESTAMP"
        }
       ],
       "type": "table"
      }
     },
     "output_type": "display_data"
    }
   ],
   "source": [
    "SELECT * FROM market_data.providers.bloomberg_bpipe\n",
    "LIMIT 20"
   ]
  },
  {
   "cell_type": "code",
   "execution_count": 0,
   "metadata": {
    "application/vnd.databricks.v1+cell": {
     "cellMetadata": {
      "byteLimit": 2048000,
      "rowLimit": 10000
     },
     "inputWidgets": {},
     "nuid": "ae58fa03-e1bd-41b4-9d8b-6903650482de",
     "showTitle": false,
     "tableResultSettingsMap": {
      "0": {
       "dataGridStateBlob": "{\"version\":1,\"tableState\":{\"columnPinning\":{\"left\":[\"#row_number#\"],\"right\":[]},\"columnSizing\":{},\"columnVisibility\":{}},\"settings\":{\"columns\":{}},\"syncTimestamp\":1758918226545}",
       "filterBlob": null,
       "queryPlanFiltersBlob": null,
       "tableResultIndex": 0
      }
     },
     "title": ""
    }
   },
   "outputs": [
    {
     "output_type": "display_data",
     "data": {
      "text/html": [
       "<style scoped>\n",
       "  .table-result-container {\n",
       "    max-height: 300px;\n",
       "    overflow: auto;\n",
       "  }\n",
       "  table, th, td {\n",
       "    border: 1px solid black;\n",
       "    border-collapse: collapse;\n",
       "  }\n",
       "  th, td {\n",
       "    padding: 5px;\n",
       "  }\n",
       "  th {\n",
       "    text-align: left;\n",
       "  }\n",
       "</style><div class='table-result-container'><table class='table-result'><thead style='background-color: white'><tr><th>EID</th><th>num_records</th></tr></thead><tbody><tr><td>35009</td><td>1272</td></tr><tr><td>33828</td><td>1272</td></tr></tbody></table></div>"
      ]
     },
     "metadata": {
      "application/vnd.databricks.v1+output": {
       "addedWidgets": {},
       "aggData": [],
       "aggError": "",
       "aggOverflow": false,
       "aggSchema": [],
       "aggSeriesLimitReached": false,
       "aggType": "",
       "arguments": {},
       "columnCustomDisplayInfos": {},
       "data": [
        [
         35009,
         1272
        ],
        [
         33828,
         1272
        ]
       ],
       "datasetInfos": [],
       "dbfsResultPath": null,
       "isJsonSchema": true,
       "metadata": {},
       "overflow": false,
       "plotOptions": {
        "customPlotOptions": {},
        "displayType": "table",
        "pivotAggregation": null,
        "pivotColumns": null,
        "xColumns": null,
        "yColumns": null
       },
       "removedWidgets": [],
       "schema": [
        {
         "metadata": "{}",
         "name": "EID",
         "type": "\"long\"",
         "typeName": "LONG",
         "typeText": "BIGINT"
        },
        {
         "metadata": "{}",
         "name": "num_records",
         "type": "\"long\"",
         "typeName": "LONG",
         "typeText": "BIGINT"
        }
       ],
       "type": "table"
      }
     },
     "output_type": "display_data"
    }
   ],
   "source": [
    "SELECT EID, count(1) AS num_records FROM market_data.providers.bloomberg_bpipe\n",
    "GROUP BY EID"
   ]
  },
  {
   "cell_type": "code",
   "execution_count": 0,
   "metadata": {
    "application/vnd.databricks.v1+cell": {
     "cellMetadata": {},
     "inputWidgets": {},
     "nuid": "74ed455c-59de-4544-a451-b5b7bdd3ec89",
     "showTitle": false,
     "tableResultSettingsMap": {},
     "title": ""
    }
   },
   "outputs": [],
   "source": []
  }
 ],
 "metadata": {
  "application/vnd.databricks.v1+notebook": {
   "computePreferences": null,
   "dashboards": [],
   "environmentMetadata": {
    "base_environment": "",
    "environment_version": "3"
   },
   "inputWidgetPreferences": null,
   "language": "sql",
   "notebookMetadata": {
    "pythonIndentUnit": 4
   },
   "notebookName": "02_bpipe_permissioning",
   "widgets": {}
  },
  "language_info": {
   "name": "sql"
  }
 },
 "nbformat": 4,
 "nbformat_minor": 0
}